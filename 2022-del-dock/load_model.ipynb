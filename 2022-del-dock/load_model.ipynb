{
 "cells": [
  {
   "cell_type": "code",
   "execution_count": 1,
   "metadata": {},
   "outputs": [],
   "source": [
    "# Copyright (C) 2022 Insitro, Inc. This software and any derivative works are licensed under the \n",
    "# terms of the Creative Commons Attribution-NonCommercial 4.0 International Public License (CC-BY-NC 4.0), \n",
    "# accessible at https://creativecommons.org/licenses/by-nc/4.0/legalcode"
   ]
  },
  {
   "cell_type": "code",
   "execution_count": 1,
   "metadata": {},
   "outputs": [],
   "source": [
    "import pytorch_lightning as pl\n",
    "from tqdm.autonotebook import tqdm\n",
    "import numpy as np"
   ]
  },
  {
   "cell_type": "code",
   "execution_count": 2,
   "metadata": {},
   "outputs": [],
   "source": [
    "from datamodules import DataModule\n",
    "from pyro_models import PyroModel"
   ]
  },
  {
   "cell_type": "code",
   "execution_count": 3,
   "metadata": {},
   "outputs": [
    {
     "name": "stdout",
     "output_type": "stream",
     "text": [
      "Number of datapoints: 108528; using JACS dataset with counts\n",
      "Getting CNN feats from : ../notebooks/cnn_feats_JACS_full.pt)\n"
     ]
    },
    {
     "data": {
      "application/vnd.jupyter.widget-view+json": {
       "model_id": "",
       "version_major": 2,
       "version_minor": 0
      },
      "text/plain": [
       "Calculating Getting graph data fingerprints:   0%|          | 0/108528 [00:00<?, ?it/s]"
      ]
     },
     "metadata": {},
     "output_type": "display_data"
    },
    {
     "data": {
      "application/vnd.jupyter.widget-view+json": {
       "model_id": "397fe0f03d2b4120b14a542637987063",
       "version_major": 2,
       "version_minor": 0
      },
      "text/plain": [
       "Getting graph poses:   0%|          | 0/20 [00:00<?, ?it/s]"
      ]
     },
     "metadata": {},
     "output_type": "display_data"
    },
    {
     "data": {
      "application/vnd.jupyter.widget-view+json": {
       "model_id": "7af8ee563eaa4d0b8ce6600d1e02e121",
       "version_major": 2,
       "version_minor": 0
      },
      "text/plain": [
       "Getting graph data:   0%|          | 0/108528 [00:00<?, ?it/s]"
      ]
     },
     "metadata": {},
     "output_type": "display_data"
    },
    {
     "data": {
      "application/vnd.jupyter.widget-view+json": {
       "model_id": "c7fcdf0bdbf64857a3fbcd5b7c62defc",
       "version_major": 2,
       "version_minor": 0
      },
      "text/plain": [
       "Getting graph data:   0%|          | 0/108528 [00:00<?, ?it/s]"
      ]
     },
     "metadata": {},
     "output_type": "display_data"
    },
    {
     "data": {
      "application/vnd.jupyter.widget-view+json": {
       "model_id": "239ecdc9c7e14686a5ff1469f5cde785",
       "version_major": 2,
       "version_minor": 0
      },
      "text/plain": [
       "Getting graph data:   0%|          | 0/108528 [00:00<?, ?it/s]"
      ]
     },
     "metadata": {},
     "output_type": "display_data"
    },
    {
     "data": {
      "application/vnd.jupyter.widget-view+json": {
       "model_id": "2aaad3d891614b228aa81659d3ab61c8",
       "version_major": 2,
       "version_minor": 0
      },
      "text/plain": [
       "Getting graph data:   0%|          | 0/108528 [00:00<?, ?it/s]"
      ]
     },
     "metadata": {},
     "output_type": "display_data"
    },
    {
     "data": {
      "application/vnd.jupyter.widget-view+json": {
       "model_id": "b20ccd506c7542e79c182b590f737355",
       "version_major": 2,
       "version_minor": 0
      },
      "text/plain": [
       "Getting graph data:   0%|          | 0/108528 [00:00<?, ?it/s]"
      ]
     },
     "metadata": {},
     "output_type": "display_data"
    },
    {
     "data": {
      "application/vnd.jupyter.widget-view+json": {
       "model_id": "605f899ce1bb4168bf4f5007cd7fb00e",
       "version_major": 2,
       "version_minor": 0
      },
      "text/plain": [
       "Getting graph data:   0%|          | 0/108528 [00:00<?, ?it/s]"
      ]
     },
     "metadata": {},
     "output_type": "display_data"
    },
    {
     "data": {
      "application/vnd.jupyter.widget-view+json": {
       "model_id": "43c5132dc9714ee38c9f27bfa482604e",
       "version_major": 2,
       "version_minor": 0
      },
      "text/plain": [
       "Getting graph data:   0%|          | 0/108528 [00:00<?, ?it/s]"
      ]
     },
     "metadata": {},
     "output_type": "display_data"
    },
    {
     "data": {
      "application/vnd.jupyter.widget-view+json": {
       "model_id": "9f25d6ce1d524d73b4159e918862f3eb",
       "version_major": 2,
       "version_minor": 0
      },
      "text/plain": [
       "Getting graph data:   0%|          | 0/108528 [00:00<?, ?it/s]"
      ]
     },
     "metadata": {},
     "output_type": "display_data"
    },
    {
     "data": {
      "application/vnd.jupyter.widget-view+json": {
       "model_id": "fce91f5c61604c799a5332a14c07fd59",
       "version_major": 2,
       "version_minor": 0
      },
      "text/plain": [
       "Getting graph data:   0%|          | 0/108528 [00:00<?, ?it/s]"
      ]
     },
     "metadata": {},
     "output_type": "display_data"
    },
    {
     "data": {
      "application/vnd.jupyter.widget-view+json": {
       "model_id": "24497d7232c948189476e1e05d4603ed",
       "version_major": 2,
       "version_minor": 0
      },
      "text/plain": [
       "Getting graph data:   0%|          | 0/108528 [00:00<?, ?it/s]"
      ]
     },
     "metadata": {},
     "output_type": "display_data"
    },
    {
     "data": {
      "application/vnd.jupyter.widget-view+json": {
       "model_id": "51a23916514b431baacf3b229c93d0fe",
       "version_major": 2,
       "version_minor": 0
      },
      "text/plain": [
       "Getting graph data:   0%|          | 0/108528 [00:00<?, ?it/s]"
      ]
     },
     "metadata": {},
     "output_type": "display_data"
    },
    {
     "data": {
      "application/vnd.jupyter.widget-view+json": {
       "model_id": "4fa9a89689d84942b3f2aedcb2910795",
       "version_major": 2,
       "version_minor": 0
      },
      "text/plain": [
       "Getting graph data:   0%|          | 0/108528 [00:00<?, ?it/s]"
      ]
     },
     "metadata": {},
     "output_type": "display_data"
    },
    {
     "data": {
      "application/vnd.jupyter.widget-view+json": {
       "model_id": "a82a0c1f939f4829a12e7f5239938dd8",
       "version_major": 2,
       "version_minor": 0
      },
      "text/plain": [
       "Getting graph data:   0%|          | 0/108528 [00:00<?, ?it/s]"
      ]
     },
     "metadata": {},
     "output_type": "display_data"
    },
    {
     "data": {
      "application/vnd.jupyter.widget-view+json": {
       "model_id": "9d9d08be9b884275a7e4dbdb170d9101",
       "version_major": 2,
       "version_minor": 0
      },
      "text/plain": [
       "Getting graph data:   0%|          | 0/108528 [00:00<?, ?it/s]"
      ]
     },
     "metadata": {},
     "output_type": "display_data"
    },
    {
     "data": {
      "application/vnd.jupyter.widget-view+json": {
       "model_id": "81299cfc682e44f6aac00d0aa9d90cfb",
       "version_major": 2,
       "version_minor": 0
      },
      "text/plain": [
       "Getting graph data:   0%|          | 0/108528 [00:00<?, ?it/s]"
      ]
     },
     "metadata": {},
     "output_type": "display_data"
    },
    {
     "data": {
      "application/vnd.jupyter.widget-view+json": {
       "model_id": "c409601dff8b4a3c95282912744bfd8e",
       "version_major": 2,
       "version_minor": 0
      },
      "text/plain": [
       "Getting graph data:   0%|          | 0/108528 [00:00<?, ?it/s]"
      ]
     },
     "metadata": {},
     "output_type": "display_data"
    },
    {
     "data": {
      "application/vnd.jupyter.widget-view+json": {
       "model_id": "e03c58cc1ae348db86c1d2a74d034e78",
       "version_major": 2,
       "version_minor": 0
      },
      "text/plain": [
       "Getting graph data:   0%|          | 0/108528 [00:00<?, ?it/s]"
      ]
     },
     "metadata": {},
     "output_type": "display_data"
    },
    {
     "data": {
      "application/vnd.jupyter.widget-view+json": {
       "model_id": "9da195f7f95649cd91a90f6d42a8b0bf",
       "version_major": 2,
       "version_minor": 0
      },
      "text/plain": [
       "Getting graph data:   0%|          | 0/108528 [00:00<?, ?it/s]"
      ]
     },
     "metadata": {},
     "output_type": "display_data"
    },
    {
     "data": {
      "application/vnd.jupyter.widget-view+json": {
       "model_id": "00be30b5afd84c4d8048adb1cf6b45f1",
       "version_major": 2,
       "version_minor": 0
      },
      "text/plain": [
       "Getting graph data:   0%|          | 0/108528 [00:00<?, ?it/s]"
      ]
     },
     "metadata": {},
     "output_type": "display_data"
    },
    {
     "data": {
      "application/vnd.jupyter.widget-view+json": {
       "model_id": "1dada4577e044ab78b1bb4782cf7ce50",
       "version_major": 2,
       "version_minor": 0
      },
      "text/plain": [
       "Getting graph data:   0%|          | 0/108528 [00:00<?, ?it/s]"
      ]
     },
     "metadata": {},
     "output_type": "display_data"
    },
    {
     "name": "stdout",
     "output_type": "stream",
     "text": [
      "train/val/test split: 0.7/0.1/0.2\n",
      "Using eval data: 3324 samples\n",
      "Getting CNN feats from : ../notebooks/cnn_feats_hca_ChEMBL.pt)\n"
     ]
    },
    {
     "data": {
      "application/vnd.jupyter.widget-view+json": {
       "model_id": "",
       "version_major": 2,
       "version_minor": 0
      },
      "text/plain": [
       "Calculating Getting eval graph data fingerprints:   0%|          | 0/3324 [00:00<?, ?it/s]"
      ]
     },
     "metadata": {},
     "output_type": "display_data"
    },
    {
     "data": {
      "application/vnd.jupyter.widget-view+json": {
       "model_id": "12cbf89894d74f7887c5358a6aed0b6b",
       "version_major": 2,
       "version_minor": 0
      },
      "text/plain": [
       "Getting graph poses:   0%|          | 0/20 [00:00<?, ?it/s]"
      ]
     },
     "metadata": {},
     "output_type": "display_data"
    },
    {
     "data": {
      "application/vnd.jupyter.widget-view+json": {
       "model_id": "cd17b4fd0bfb43ebba933233e26c88f1",
       "version_major": 2,
       "version_minor": 0
      },
      "text/plain": [
       "Getting eval graph data:   0%|          | 0/3324 [00:00<?, ?it/s]"
      ]
     },
     "metadata": {},
     "output_type": "display_data"
    },
    {
     "data": {
      "application/vnd.jupyter.widget-view+json": {
       "model_id": "c3fa7f9f6c1b4acba0e5d7186da5a7e5",
       "version_major": 2,
       "version_minor": 0
      },
      "text/plain": [
       "Getting eval graph data:   0%|          | 0/3324 [00:00<?, ?it/s]"
      ]
     },
     "metadata": {},
     "output_type": "display_data"
    },
    {
     "data": {
      "application/vnd.jupyter.widget-view+json": {
       "model_id": "3a799ef71eee480a9a543431ea02bfc7",
       "version_major": 2,
       "version_minor": 0
      },
      "text/plain": [
       "Getting eval graph data:   0%|          | 0/3324 [00:00<?, ?it/s]"
      ]
     },
     "metadata": {},
     "output_type": "display_data"
    },
    {
     "data": {
      "application/vnd.jupyter.widget-view+json": {
       "model_id": "0d987c27c1994198aa5f533aa8c2faab",
       "version_major": 2,
       "version_minor": 0
      },
      "text/plain": [
       "Getting eval graph data:   0%|          | 0/3324 [00:00<?, ?it/s]"
      ]
     },
     "metadata": {},
     "output_type": "display_data"
    },
    {
     "data": {
      "application/vnd.jupyter.widget-view+json": {
       "model_id": "0a4b717453804702b966e029795b0cd7",
       "version_major": 2,
       "version_minor": 0
      },
      "text/plain": [
       "Getting eval graph data:   0%|          | 0/3324 [00:00<?, ?it/s]"
      ]
     },
     "metadata": {},
     "output_type": "display_data"
    },
    {
     "data": {
      "application/vnd.jupyter.widget-view+json": {
       "model_id": "9fe78eed775747db97be085c4db9d35a",
       "version_major": 2,
       "version_minor": 0
      },
      "text/plain": [
       "Getting eval graph data:   0%|          | 0/3324 [00:00<?, ?it/s]"
      ]
     },
     "metadata": {},
     "output_type": "display_data"
    },
    {
     "data": {
      "application/vnd.jupyter.widget-view+json": {
       "model_id": "8d34dad8faab4bc18126ff9642b1cc58",
       "version_major": 2,
       "version_minor": 0
      },
      "text/plain": [
       "Getting eval graph data:   0%|          | 0/3324 [00:00<?, ?it/s]"
      ]
     },
     "metadata": {},
     "output_type": "display_data"
    },
    {
     "data": {
      "application/vnd.jupyter.widget-view+json": {
       "model_id": "576bf8f7758d40fb85bdad510d1e9989",
       "version_major": 2,
       "version_minor": 0
      },
      "text/plain": [
       "Getting eval graph data:   0%|          | 0/3324 [00:00<?, ?it/s]"
      ]
     },
     "metadata": {},
     "output_type": "display_data"
    },
    {
     "data": {
      "application/vnd.jupyter.widget-view+json": {
       "model_id": "dbf31ac167504af99ea1d552f5855bf1",
       "version_major": 2,
       "version_minor": 0
      },
      "text/plain": [
       "Getting eval graph data:   0%|          | 0/3324 [00:00<?, ?it/s]"
      ]
     },
     "metadata": {},
     "output_type": "display_data"
    },
    {
     "data": {
      "application/vnd.jupyter.widget-view+json": {
       "model_id": "4faeff57f4ee40c9a7242023cff554a6",
       "version_major": 2,
       "version_minor": 0
      },
      "text/plain": [
       "Getting eval graph data:   0%|          | 0/3324 [00:00<?, ?it/s]"
      ]
     },
     "metadata": {},
     "output_type": "display_data"
    },
    {
     "data": {
      "application/vnd.jupyter.widget-view+json": {
       "model_id": "52daee7913714ee2a2f0a85a22575582",
       "version_major": 2,
       "version_minor": 0
      },
      "text/plain": [
       "Getting eval graph data:   0%|          | 0/3324 [00:00<?, ?it/s]"
      ]
     },
     "metadata": {},
     "output_type": "display_data"
    },
    {
     "data": {
      "application/vnd.jupyter.widget-view+json": {
       "model_id": "54b38fa1fb084522807b2421a7638835",
       "version_major": 2,
       "version_minor": 0
      },
      "text/plain": [
       "Getting eval graph data:   0%|          | 0/3324 [00:00<?, ?it/s]"
      ]
     },
     "metadata": {},
     "output_type": "display_data"
    },
    {
     "data": {
      "application/vnd.jupyter.widget-view+json": {
       "model_id": "4a168b9250b143c0afd20fdc22330450",
       "version_major": 2,
       "version_minor": 0
      },
      "text/plain": [
       "Getting eval graph data:   0%|          | 0/3324 [00:00<?, ?it/s]"
      ]
     },
     "metadata": {},
     "output_type": "display_data"
    },
    {
     "data": {
      "application/vnd.jupyter.widget-view+json": {
       "model_id": "aa5a6d11e82449749670458fee5ddc08",
       "version_major": 2,
       "version_minor": 0
      },
      "text/plain": [
       "Getting eval graph data:   0%|          | 0/3324 [00:00<?, ?it/s]"
      ]
     },
     "metadata": {},
     "output_type": "display_data"
    },
    {
     "data": {
      "application/vnd.jupyter.widget-view+json": {
       "model_id": "2eba50530a774c90ab67e88c83661e35",
       "version_major": 2,
       "version_minor": 0
      },
      "text/plain": [
       "Getting eval graph data:   0%|          | 0/3324 [00:00<?, ?it/s]"
      ]
     },
     "metadata": {},
     "output_type": "display_data"
    },
    {
     "data": {
      "application/vnd.jupyter.widget-view+json": {
       "model_id": "95472aeaed404dde81bc22e2bda3cf67",
       "version_major": 2,
       "version_minor": 0
      },
      "text/plain": [
       "Getting eval graph data:   0%|          | 0/3324 [00:00<?, ?it/s]"
      ]
     },
     "metadata": {},
     "output_type": "display_data"
    },
    {
     "data": {
      "application/vnd.jupyter.widget-view+json": {
       "model_id": "7b1b0690603e447ba95a81bee9804dfd",
       "version_major": 2,
       "version_minor": 0
      },
      "text/plain": [
       "Getting eval graph data:   0%|          | 0/3324 [00:00<?, ?it/s]"
      ]
     },
     "metadata": {},
     "output_type": "display_data"
    },
    {
     "data": {
      "application/vnd.jupyter.widget-view+json": {
       "model_id": "0adea263296144b0af72b55e81f0b61d",
       "version_major": 2,
       "version_minor": 0
      },
      "text/plain": [
       "Getting eval graph data:   0%|          | 0/3324 [00:00<?, ?it/s]"
      ]
     },
     "metadata": {},
     "output_type": "display_data"
    },
    {
     "data": {
      "application/vnd.jupyter.widget-view+json": {
       "model_id": "6fb39f3481bb4f6a9792413ea8428472",
       "version_major": 2,
       "version_minor": 0
      },
      "text/plain": [
       "Getting eval graph data:   0%|          | 0/3324 [00:00<?, ?it/s]"
      ]
     },
     "metadata": {},
     "output_type": "display_data"
    },
    {
     "data": {
      "application/vnd.jupyter.widget-view+json": {
       "model_id": "f159f4ab4483497f985e9dcebd3573cb",
       "version_major": 2,
       "version_minor": 0
      },
      "text/plain": [
       "Getting eval graph data:   0%|          | 0/3324 [00:00<?, ?it/s]"
      ]
     },
     "metadata": {},
     "output_type": "display_data"
    },
    {
     "name": "stdout",
     "output_type": "stream",
     "text": [
      "Using splits from: splits_jacs_full.npz\n"
     ]
    }
   ],
   "source": [
    "datamodule = DataModule(batch_size=64,\n",
    "                             test_batch_size=64, \n",
    "                             poses=20, \n",
    "                             splits_fname='splits_jacs_full.npz',\n",
    "                             dataset_csv_fname='JACS_full.csv',\n",
    "                             df_eval_fname='df_eval_data.csv',\n",
    "                             source_eval='caix',\n",
    "                             cnn_feats_train_fname='cnn_feats_JACS_full.pt',\n",
    "                             cnn_feats_eval_fname='cnn_feats_hca_ChEMBL.pt',\n",
    "                             source_data='jacs_counts',)"
   ]
  },
  {
   "cell_type": "code",
   "execution_count": 4,
   "metadata": {},
   "outputs": [],
   "source": [
    "import torch\n",
    "from collections import OrderedDict"
   ]
  },
  {
   "cell_type": "code",
   "execution_count": 9,
   "metadata": {},
   "outputs": [],
   "source": [
    "model = PyroModel.load_from_checkpoint('ckpt.ckpt')"
   ]
  },
  {
   "cell_type": "code",
   "execution_count": 10,
   "metadata": {},
   "outputs": [
    {
     "name": "stderr",
     "output_type": "stream",
     "text": [
      "/home/ec2-user/miniconda3/envs/pyg_pyro/lib/python3.7/site-packages/pytorch_lightning/loops/utilities.py:94: PossibleUserWarning: `max_epochs` was not set. Setting it to 1000 epochs. To train without an epoch limit, set `max_epochs=-1`.\n",
      "  category=PossibleUserWarning,\n",
      "GPU available: True, used: True\n",
      "TPU available: False, using: 0 TPU cores\n",
      "IPU available: False, using: 0 IPUs\n",
      "HPU available: False, using: 0 HPUs\n"
     ]
    }
   ],
   "source": [
    "trainer = pl.Trainer(gpus=1)"
   ]
  },
  {
   "cell_type": "code",
   "execution_count": 11,
   "metadata": {},
   "outputs": [
    {
     "name": "stderr",
     "output_type": "stream",
     "text": [
      "LOCAL_RANK: 0 - CUDA_VISIBLE_DEVICES: [0]\n",
      "/home/ec2-user/miniconda3/envs/pyg_pyro/lib/python3.7/site-packages/pytorch_lightning/trainer/connectors/data_connector.py:245: PossibleUserWarning: The dataloader, val_dataloader 0, does not have many workers which may be a bottleneck. Consider increasing the value of the `num_workers` argument` (try 64 which is the number of cpus on this machine) in the `DataLoader` init to improve performance.\n",
      "  category=PossibleUserWarning,\n",
      "/home/ec2-user/miniconda3/envs/pyg_pyro/lib/python3.7/site-packages/pytorch_lightning/trainer/connectors/data_connector.py:245: PossibleUserWarning: The dataloader, val_dataloader 1, does not have many workers which may be a bottleneck. Consider increasing the value of the `num_workers` argument` (try 64 which is the number of cpus on this machine) in the `DataLoader` init to improve performance.\n",
      "  category=PossibleUserWarning,\n"
     ]
    },
    {
     "data": {
      "application/vnd.jupyter.widget-view+json": {
       "model_id": "ee2dfc5671ed45ac998962fc789a485c",
       "version_major": 2,
       "version_minor": 0
      },
      "text/plain": [
       "Validation: 0it [00:00, ?it/s]"
      ]
     },
     "metadata": {},
     "output_type": "display_data"
    },
    {
     "name": "stdout",
     "output_type": "stream",
     "text": [
      "────────────────────────────────────────────────────────────────────────────────────────────────────────────────────────\n",
      "        Validate metric                 DataLoader 0                   DataLoader 1\n",
      "────────────────────────────────────────────────────────────────────────────────────────────────────────────────────────\n",
      "    VAL_EMA_eval_ki_pearson         -0.04222378698927178           -0.04222378698927178\n",
      "   VAL_EMA_eval_ki_spearman         -0.33496421549456784           -0.33496421549456784\n",
      "val_EMA_eval_ki_pearson_subset      -0.11996671076972967           -0.11996671076972967\n",
      "val_EMA_eval_ki_spearman_subset     -0.19539824144675647           -0.19539824144675647\n",
      "         val_EMA_loss                 1.410651445388794\n",
      "           val_loss                   1.410620093345642\n",
      "────────────────────────────────────────────────────────────────────────────────────────────────────────────────────────\n"
     ]
    },
    {
     "data": {
      "text/plain": [
       "[{'val_EMA_loss/dataloader_idx_0': 1.410651445388794,\n",
       "  'val_loss/dataloader_idx_0': 1.410620093345642,\n",
       "  'VAL_EMA_eval_ki_pearson': -0.04222378698927178,\n",
       "  'VAL_EMA_eval_ki_spearman': -0.33496421549456784,\n",
       "  'val_EMA_eval_ki_pearson_subset': -0.11996671076972967,\n",
       "  'val_EMA_eval_ki_spearman_subset': -0.19539824144675647},\n",
       " {'VAL_EMA_eval_ki_pearson': -0.04222378698927178,\n",
       "  'VAL_EMA_eval_ki_spearman': -0.33496421549456784,\n",
       "  'val_EMA_eval_ki_pearson_subset': -0.11996671076972967,\n",
       "  'val_EMA_eval_ki_spearman_subset': -0.19539824144675647}]"
      ]
     },
     "execution_count": 11,
     "metadata": {},
     "output_type": "execute_result"
    }
   ],
   "source": [
    "trainer.validate(model, datamodule)"
   ]
  },
  {
   "cell_type": "code",
   "execution_count": 12,
   "metadata": {},
   "outputs": [
    {
     "name": "stderr",
     "output_type": "stream",
     "text": [
      "LOCAL_RANK: 0 - CUDA_VISIBLE_DEVICES: [0]\n",
      "/home/ec2-user/miniconda3/envs/pyg_pyro/lib/python3.7/site-packages/pytorch_lightning/trainer/connectors/data_connector.py:245: PossibleUserWarning: The dataloader, test_dataloader 0, does not have many workers which may be a bottleneck. Consider increasing the value of the `num_workers` argument` (try 64 which is the number of cpus on this machine) in the `DataLoader` init to improve performance.\n",
      "  category=PossibleUserWarning,\n",
      "/home/ec2-user/miniconda3/envs/pyg_pyro/lib/python3.7/site-packages/pytorch_lightning/trainer/connectors/data_connector.py:245: PossibleUserWarning: The dataloader, test_dataloader 1, does not have many workers which may be a bottleneck. Consider increasing the value of the `num_workers` argument` (try 64 which is the number of cpus on this machine) in the `DataLoader` init to improve performance.\n",
      "  category=PossibleUserWarning,\n"
     ]
    },
    {
     "data": {
      "application/vnd.jupyter.widget-view+json": {
       "model_id": "97a11385016d493da5d7c39696c7ea08",
       "version_major": 2,
       "version_minor": 0
      },
      "text/plain": [
       "Testing: 0it [00:00, ?it/s]"
      ]
     },
     "metadata": {},
     "output_type": "display_data"
    },
    {
     "name": "stdout",
     "output_type": "stream",
     "text": [
      "────────────────────────────────────────────────────────────────────────────────────────────────────────────────────────\n",
      "       Test metric             DataLoader 0             DataLoader 1\n",
      "────────────────────────────────────────────────────────────────────────────────────────────────────────────────────────\n",
      "test_EMA_eval_ki_pearson   -0.04222378698927178     -0.04222378698927178\n",
      "test_EMA_eval_ki_spearman  -0.33496421549456784     -0.33496421549456784\n",
      "      test_EMA_loss         1.4094619750976562\n",
      "        test_loss           1.4094315767288208\n",
      "────────────────────────────────────────────────────────────────────────────────────────────────────────────────────────\n"
     ]
    },
    {
     "data": {
      "text/plain": [
       "[{'test_loss/dataloader_idx_0': 1.4094315767288208,\n",
       "  'test_EMA_loss/dataloader_idx_0': 1.4094619750976562,\n",
       "  'test_EMA_eval_ki_pearson': -0.04222378698927178,\n",
       "  'test_EMA_eval_ki_spearman': -0.33496421549456784},\n",
       " {'test_EMA_eval_ki_pearson': -0.04222378698927178,\n",
       "  'test_EMA_eval_ki_spearman': -0.33496421549456784}]"
      ]
     },
     "execution_count": 12,
     "metadata": {},
     "output_type": "execute_result"
    }
   ],
   "source": [
    "trainer.test(model, datamodule)"
   ]
  },
  {
   "cell_type": "code",
   "execution_count": 13,
   "metadata": {},
   "outputs": [
    {
     "data": {
      "text/plain": [
       "PyroPyroModel(\n",
       "  (cnn_embed): PyroSequential(\n",
       "    (0): PyroLinear(in_features=224, out_features=256, bias=True)\n",
       "    (1): PyroLeakyReLU(negative_slope=0.01)\n",
       "    (2): PyroResidualNLayerMLP(\n",
       "      (main_modules): PyroModuleList(\n",
       "        (0): PyroSequential(\n",
       "          (0): PyroLinear(in_features=256, out_features=128, bias=True)\n",
       "          (1): PyroLeakyReLU(negative_slope=0.01)\n",
       "          (2): PyroDropout(p=0.5, inplace=False)\n",
       "          (3): PyroLinear(in_features=128, out_features=256, bias=True)\n",
       "          (4): PyroLeakyReLU(negative_slope=0.01)\n",
       "          (5): PyroDropout(p=0.5, inplace=False)\n",
       "        )\n",
       "        (1): PyroSequential(\n",
       "          (0): PyroLinear(in_features=256, out_features=128, bias=True)\n",
       "          (1): PyroLeakyReLU(negative_slope=0.01)\n",
       "          (2): PyroDropout(p=0.5, inplace=False)\n",
       "          (3): PyroLinear(in_features=128, out_features=256, bias=True)\n",
       "          (4): PyroLeakyReLU(negative_slope=0.01)\n",
       "          (5): PyroDropout(p=0.5, inplace=False)\n",
       "        )\n",
       "      )\n",
       "    )\n",
       "  )\n",
       "  (smiles_embed): PyroSequential(\n",
       "    (0): PyroLinear(in_features=2048, out_features=256, bias=True)\n",
       "    (1): PyroLeakyReLU(negative_slope=0.01)\n",
       "    (2): PyroResidualNLayerMLP(\n",
       "      (main_modules): PyroModuleList(\n",
       "        (0): PyroSequential(\n",
       "          (0): PyroLinear(in_features=256, out_features=128, bias=True)\n",
       "          (1): PyroLeakyReLU(negative_slope=0.01)\n",
       "          (2): PyroDropout(p=0.5, inplace=False)\n",
       "          (3): PyroLinear(in_features=128, out_features=256, bias=True)\n",
       "          (4): PyroLeakyReLU(negative_slope=0.01)\n",
       "          (5): PyroDropout(p=0.5, inplace=False)\n",
       "        )\n",
       "        (1): PyroSequential(\n",
       "          (0): PyroLinear(in_features=256, out_features=128, bias=True)\n",
       "          (1): PyroLeakyReLU(negative_slope=0.01)\n",
       "          (2): PyroDropout(p=0.5, inplace=False)\n",
       "          (3): PyroLinear(in_features=128, out_features=256, bias=True)\n",
       "          (4): PyroLeakyReLU(negative_slope=0.01)\n",
       "          (5): PyroDropout(p=0.5, inplace=False)\n",
       "        )\n",
       "      )\n",
       "    )\n",
       "  )\n",
       "  (pose_attn_tanh): PyroSequential(\n",
       "    (0): PyroLinear(in_features=256, out_features=128, bias=False)\n",
       "    (1): PyroTanh()\n",
       "  )\n",
       "  (pose_attn_sig): PyroSequential(\n",
       "    (0): PyroLinear(in_features=256, out_features=128, bias=False)\n",
       "    (1): PyroSigmoid()\n",
       "  )\n",
       "  (pose_attn): PyroLinear(in_features=128, out_features=1, bias=False)\n",
       "  (post_add_layer): PyroResidualNLayerMLP(\n",
       "    (main_modules): PyroModuleList(\n",
       "      (0): PyroSequential(\n",
       "        (0): PyroLinear(in_features=256, out_features=128, bias=True)\n",
       "        (1): PyroLeakyReLU(negative_slope=0.01)\n",
       "        (2): PyroDropout(p=0.5, inplace=False)\n",
       "        (3): PyroLinear(in_features=128, out_features=256, bias=True)\n",
       "        (4): PyroLeakyReLU(negative_slope=0.01)\n",
       "        (5): PyroDropout(p=0.5, inplace=False)\n",
       "      )\n",
       "      (1): PyroSequential(\n",
       "        (0): PyroLinear(in_features=256, out_features=128, bias=True)\n",
       "        (1): PyroLeakyReLU(negative_slope=0.01)\n",
       "        (2): PyroDropout(p=0.5, inplace=False)\n",
       "        (3): PyroLinear(in_features=128, out_features=256, bias=True)\n",
       "        (4): PyroLeakyReLU(negative_slope=0.01)\n",
       "        (5): PyroDropout(p=0.5, inplace=False)\n",
       "      )\n",
       "    )\n",
       "  )\n",
       "  (enrichment_head): PyroSequential(\n",
       "    (0): PyroLinear(in_features=256, out_features=1, bias=True)\n",
       "    (1): PyroExpAct()\n",
       "  )\n",
       "  (matrix_head): PyroSequential(\n",
       "    (0): PyroLinear(in_features=256, out_features=1, bias=True)\n",
       "    (1): PyroExpAct()\n",
       "  )\n",
       ")"
      ]
     },
     "execution_count": 13,
     "metadata": {},
     "output_type": "execute_result"
    }
   ],
   "source": [
    "model.eval()"
   ]
  },
  {
   "cell_type": "code",
   "execution_count": 14,
   "metadata": {},
   "outputs": [
    {
     "data": {
      "application/vnd.jupyter.widget-view+json": {
       "model_id": "fbb944cfe1b24886908972d62b80e423",
       "version_major": 2,
       "version_minor": 0
      },
      "text/plain": [
       "  0%|          | 0/52 [00:00<?, ?it/s]"
      ]
     },
     "metadata": {},
     "output_type": "display_data"
    }
   ],
   "source": [
    "enrichments = list()\n",
    "attn_scores = list()\n",
    "with torch.inference_mode():\n",
    "    for batch in tqdm(datamodule.test_dataloader()[1]):\n",
    "        with model.ema.average_parameters():\n",
    "            R, attn = model.forward(batch, return_attn_scores=True)\n",
    "        enrichments.append(R.cpu().numpy())\n",
    "        attn_scores.append(attn[..., 0].cpu().numpy())\n",
    "attn_scores = np.concatenate(attn_scores)\n",
    "enrichments = np.concatenate(enrichments)"
   ]
  },
  {
   "cell_type": "code",
   "execution_count": 15,
   "metadata": {},
   "outputs": [],
   "source": [
    "from rdkit import Chem"
   ]
  },
  {
   "cell_type": "code",
   "execution_count": 16,
   "metadata": {
    "scrolled": true
   },
   "outputs": [
    {
     "data": {
      "image/png": "[encoded data removed]",
      "text/plain": [
       "<rdkit.Chem.rdchem.Mol at 0x7f63b06cd210>"
      ]
     },
     "execution_count": 16,
     "metadata": {},
     "output_type": "execute_result"
    }
   ],
   "source": [
    "#Chem.MolFromSmiles('S(=O)(=O)N')\n",
    "patt = Chem.MolFromSmarts(\"c1ccccc1S(=O)(=O)[NH2]\")\n",
    "patt"
   ]
  },
  {
   "cell_type": "code",
   "execution_count": 17,
   "metadata": {},
   "outputs": [],
   "source": [
    "df_eval = datamodule.df_eval"
   ]
  },
  {
   "cell_type": "code",
   "execution_count": 18,
   "metadata": {},
   "outputs": [],
   "source": [
    "ki_valid = ~datamodule.df_eval['Ki (nM)'].isnull()"
   ]
  },
  {
   "cell_type": "code",
   "execution_count": 19,
   "metadata": {},
   "outputs": [],
   "source": [
    "ms_eval = [Chem.MolFromSmiles(smi) for smi in df_eval['smiles']]"
   ]
  },
  {
   "cell_type": "code",
   "execution_count": 20,
   "metadata": {},
   "outputs": [],
   "source": [
    "sulf_containing = np.array([m.HasSubstructMatch(patt) for m in ms_eval])\n",
    "sulf_containing_idxs = np.where(sulf_containing)[0]\n",
    "not_sulf_containing_idxs = np.where(~sulf_containing)[0]"
   ]
  },
  {
   "cell_type": "code",
   "execution_count": 21,
   "metadata": {},
   "outputs": [],
   "source": [
    "sulf_mask = np.logical_and(ki_valid.values, sulf_containing)\n",
    "no_sulf_mask = np.logical_and(ki_valid.values, ~sulf_containing)"
   ]
  },
  {
   "cell_type": "code",
   "execution_count": 22,
   "metadata": {},
   "outputs": [],
   "source": [
    "ki = df_eval['Ki (nM)'][ki_valid].values"
   ]
  },
  {
   "cell_type": "code",
   "execution_count": 23,
   "metadata": {},
   "outputs": [],
   "source": [
    "import pandas as pd\n",
    "import seaborn as sns"
   ]
  },
  {
   "cell_type": "code",
   "execution_count": 24,
   "metadata": {},
   "outputs": [
    {
     "data": {
      "text/plain": [
       "<seaborn.axisgrid.JointGrid at 0x7f6354178cd0>"
      ]
     },
     "execution_count": 24,
     "metadata": {},
     "output_type": "execute_result"
    },
    {
     "data": {
      "image/png": "[encoded data removed]",
      "text/plain": [
       "<Figure size 360x360 with 3 Axes>"
      ]
     },
     "metadata": {
      "needs_background": "light"
     },
     "output_type": "display_data"
    }
   ],
   "source": [
    "d ={'Log(Ki [nM])':np.log(ki), 'Predicted enrichment':enrichments[ki_valid], 'Sulfonamide':sulf_mask[ki_valid]}\n",
    "df = pd.DataFrame(d)\n",
    "sns.jointplot(data=df, kind='kde', x='Log(Ki [nM])',y='Predicted enrichment', hue='Sulfonamide', height=5, space=0, levels=7,fill=True, alpha=0.5, ylim=(4, 21), xlim=(-4, 20))"
   ]
  },
  {
   "cell_type": "code",
   "execution_count": null,
   "metadata": {},
   "outputs": [],
   "source": []
  }
 ],
 "metadata": {
  "kernelspec": {
   "display_name": "Python 3",
   "language": "python",
   "name": "python3"
  },
  "language_info": {
   "codemirror_mode": {
    "name": "ipython",
    "version": 3
   },
   "file_extension": ".py",
   "mimetype": "text/x-python",
   "name": "python",
   "nbconvert_exporter": "python",
   "pygments_lexer": "ipython3",
   "version": "3.6.7"
  }
 },
 "nbformat": 4,
 "nbformat_minor": 5
}
