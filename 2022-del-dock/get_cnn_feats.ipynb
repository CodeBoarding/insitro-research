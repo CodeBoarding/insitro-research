{
 "cells": [
  {
   "cell_type": "code",
   "execution_count": 1,
   "id": "815b2f18",
   "metadata": {},
   "outputs": [
    {
     "name": "stderr",
     "output_type": "stream",
     "text": [
      "/home/ec2-user/miniconda3/envs/pyg_pyro/lib/python3.7/site-packages/ipykernel_launcher.py:3: TqdmExperimentalWarning: Using `tqdm.autonotebook.tqdm` in notebook mode. Use `tqdm.tqdm` instead to force console mode (e.g. in jupyter console)\n",
      "  This is separate from the ipykernel package so we can avoid doing imports until\n"
     ]
    }
   ],
   "source": [
    "from pathlib import Path\n",
    "from rdkit import Chem\n",
    "from tqdm.autonotebook import tqdm"
   ]
  },
  {
   "attachments": {},
   "cell_type": "markdown",
   "id": "797b99d2",
   "metadata": {},
   "source": [
    "# Training data"
   ]
  },
  {
   "cell_type": "code",
   "execution_count": 2,
   "id": "391eb487",
   "metadata": {},
   "outputs": [
    {
     "data": {
      "text/plain": [
       "108528"
      ]
     },
     "execution_count": 2,
     "metadata": {},
     "output_type": "execute_result"
    }
   ],
   "source": [
    "num_total = len(list(Path('docked_jacs_full/').glob('*sdf')))\n",
    "num_total"
   ]
  },
  {
   "cell_type": "code",
   "execution_count": 6,
   "id": "9aa4b1cb",
   "metadata": {},
   "outputs": [],
   "source": [
    "!mkdir poses_jacs"
   ]
  },
  {
   "cell_type": "code",
   "execution_count": null,
   "id": "6e6b2c15",
   "metadata": {},
   "outputs": [
    {
     "data": {
      "application/vnd.jupyter.widget-view+json": {
       "model_id": "62228d21b6bc455d81d39ae76b410767",
       "version_major": 2,
       "version_minor": 0
      },
      "text/plain": [
       "  0%|          | 0/108528 [00:00<?, ?it/s]"
      ]
     },
     "metadata": {},
     "output_type": "display_data"
    }
   ],
   "source": [
    "for idx in tqdm(range(num_total)):\n",
    "    suppl = Chem.SDMolSupplier(f'docked_jacs_full/docked_{idx}.sdf')\n",
    "    for i, m in enumerate(suppl):\n",
    "        Chem.MolToPDBFile(m, f'poses_jacs/m_idx_{idx}_pose_{i}.pdb')"
   ]
  },
  {
   "cell_type": "code",
   "execution_count": null,
   "id": "b0a1b026",
   "metadata": {},
   "outputs": [],
   "source": [
    "n_poses = 20"
   ]
  },
  {
   "cell_type": "code",
   "execution_count": null,
   "id": "b1e8ed78",
   "metadata": {},
   "outputs": [],
   "source": [
    "with open(\"jacs.types\", \"w\") as text_file:\n",
    "    for idx in tqdm(range(num_total)):\n",
    "        for p in range(n_poses):\n",
    "            file_str = f'{idx} 5FL4_receptor.pdb poses_jacs/m_idx_{idx}_pose_{p}.pdb'\n",
    "            print(file_str, file=text_file)"
   ]
  },
  {
   "cell_type": "code",
   "execution_count": 4,
   "id": "2dbd18ce",
   "metadata": {},
   "outputs": [],
   "source": [
    "from gninatorch import setup, gnina, dataloaders\n",
    "from argparse import Namespace"
   ]
  },
  {
   "cell_type": "code",
   "execution_count": 5,
   "id": "7c42dc0a",
   "metadata": {},
   "outputs": [],
   "source": [
    "class VoxelLoader(dataloaders.GriddedExamplesLoader):\n",
    "    def __len__(self):\n",
    "        return self.num_batches"
   ]
  },
  {
   "cell_type": "code",
   "execution_count": 6,
   "id": "ade1c1a4",
   "metadata": {},
   "outputs": [],
   "source": [
    "grid_args = Namespace(**{'data_root':'',\n",
    "                    'batch_size':20,\n",
    "                    'ligmolcache':\"\",\n",
    "                    'recmolcache':\"\",\n",
    "                    'cache_structures':True,\n",
    "                    'dimension':23.5,\n",
    "                    'resolution':0.5,\n",
    "                    'balanced':False,\n",
    "                    'shuffle':False,\n",
    "                    'stratify_receptor':False,\n",
    "                    'stratify_pos':False,\n",
    "                    'iteration_scheme':'small',\n",
    "                    'stratify_max':0,\n",
    "                    'stratify_min':0,\n",
    "                    'stratify_step':0})"
   ]
  },
  {
   "cell_type": "code",
   "execution_count": 7,
   "id": "170a8365",
   "metadata": {},
   "outputs": [],
   "source": [
    "provider = setup.setup_example_provider(\n",
    "    f\"jacs.types\", grid_args, training=False\n",
    ")\n",
    "grid_maker = setup.setup_grid_maker(grid_args)\n",
    "\n",
    "all_loader = VoxelLoader(\n",
    "    example_provider=provider,\n",
    "    grid_maker=grid_maker,\n",
    "    random_translation=0,\n",
    "    random_rotation=False,\n",
    "    device='cuda',\n",
    ")"
   ]
  },
  {
   "cell_type": "code",
   "execution_count": 12,
   "id": "ffe2e841",
   "metadata": {},
   "outputs": [],
   "source": [
    "import torch"
   ]
  },
  {
   "cell_type": "code",
   "execution_count": 13,
   "id": "f2f2d17c",
   "metadata": {},
   "outputs": [],
   "source": [
    "model = gnina.setup_gnina_model('dense')[0]"
   ]
  },
  {
   "cell_type": "code",
   "execution_count": 14,
   "id": "fb7b2c46",
   "metadata": {
    "scrolled": true
   },
   "outputs": [
    {
     "data": {
      "text/plain": [
       "DenseAffinity(\n",
       "  (features): Sequential(\n",
       "    (data_enc_init_pool): MaxPool3d(kernel_size=2, stride=2, padding=0, dilation=1, ceil_mode=False)\n",
       "    (data_enc_init_conv): Conv3d(28, 32, kernel_size=(3, 3, 3), stride=(1, 1, 1), padding=(1, 1, 1))\n",
       "    (data_enc_init_conv_relu): ReLU()\n",
       "    (dense_block_0): DenseBlock(\n",
       "      (blocks): Sequential(\n",
       "        (data_enc_level0_batchnorm_conv0): BatchNorm3d(32, eps=1e-05, momentum=0.1, affine=True, track_running_stats=True)\n",
       "        (data_enc_level0_conv0): Conv3d(32, 16, kernel_size=(3, 3, 3), stride=(1, 1, 1), padding=(1, 1, 1))\n",
       "        (data_enc_level0_conv0_relu): ReLU()\n",
       "        (data_enc_level0_batchnorm_conv1): BatchNorm3d(48, eps=1e-05, momentum=0.1, affine=True, track_running_stats=True)\n",
       "        (data_enc_level0_conv1): Conv3d(48, 16, kernel_size=(3, 3, 3), stride=(1, 1, 1), padding=(1, 1, 1))\n",
       "        (data_enc_level0_conv1_relu): ReLU()\n",
       "        (data_enc_level0_batchnorm_conv2): BatchNorm3d(64, eps=1e-05, momentum=0.1, affine=True, track_running_stats=True)\n",
       "        (data_enc_level0_conv2): Conv3d(64, 16, kernel_size=(3, 3, 3), stride=(1, 1, 1), padding=(1, 1, 1))\n",
       "        (data_enc_level0_conv2_relu): ReLU()\n",
       "        (data_enc_level0_batchnorm_conv3): BatchNorm3d(80, eps=1e-05, momentum=0.1, affine=True, track_running_stats=True)\n",
       "        (data_enc_level0_conv3): Conv3d(80, 16, kernel_size=(3, 3, 3), stride=(1, 1, 1), padding=(1, 1, 1))\n",
       "        (data_enc_level0_conv3_relu): ReLU()\n",
       "      )\n",
       "    )\n",
       "    (data_enc_level0_bottleneck): Conv3d(96, 96, kernel_size=(1, 1, 1), stride=(1, 1, 1))\n",
       "    (data_enc_level0_bottleneck_relu): ReLU()\n",
       "    (data_enc_level1_pool): MaxPool3d(kernel_size=2, stride=2, padding=0, dilation=1, ceil_mode=False)\n",
       "    (dense_block_1): DenseBlock(\n",
       "      (blocks): Sequential(\n",
       "        (data_enc_level1_batchnorm_conv0): BatchNorm3d(96, eps=1e-05, momentum=0.1, affine=True, track_running_stats=True)\n",
       "        (data_enc_level1_conv0): Conv3d(96, 16, kernel_size=(3, 3, 3), stride=(1, 1, 1), padding=(1, 1, 1))\n",
       "        (data_enc_level1_conv0_relu): ReLU()\n",
       "        (data_enc_level1_batchnorm_conv1): BatchNorm3d(112, eps=1e-05, momentum=0.1, affine=True, track_running_stats=True)\n",
       "        (data_enc_level1_conv1): Conv3d(112, 16, kernel_size=(3, 3, 3), stride=(1, 1, 1), padding=(1, 1, 1))\n",
       "        (data_enc_level1_conv1_relu): ReLU()\n",
       "        (data_enc_level1_batchnorm_conv2): BatchNorm3d(128, eps=1e-05, momentum=0.1, affine=True, track_running_stats=True)\n",
       "        (data_enc_level1_conv2): Conv3d(128, 16, kernel_size=(3, 3, 3), stride=(1, 1, 1), padding=(1, 1, 1))\n",
       "        (data_enc_level1_conv2_relu): ReLU()\n",
       "        (data_enc_level1_batchnorm_conv3): BatchNorm3d(144, eps=1e-05, momentum=0.1, affine=True, track_running_stats=True)\n",
       "        (data_enc_level1_conv3): Conv3d(144, 16, kernel_size=(3, 3, 3), stride=(1, 1, 1), padding=(1, 1, 1))\n",
       "        (data_enc_level1_conv3_relu): ReLU()\n",
       "      )\n",
       "    )\n",
       "    (data_enc_level1_bottleneck): Conv3d(160, 160, kernel_size=(1, 1, 1), stride=(1, 1, 1))\n",
       "    (data_enc_level1_bottleneck_relu): ReLU()\n",
       "    (data_enc_level2_pool): MaxPool3d(kernel_size=2, stride=2, padding=0, dilation=1, ceil_mode=False)\n",
       "    (dense_block_2): DenseBlock(\n",
       "      (blocks): Sequential(\n",
       "        (data_enc_level2_batchnorm_conv0): BatchNorm3d(160, eps=1e-05, momentum=0.1, affine=True, track_running_stats=True)\n",
       "        (data_enc_level2_conv0): Conv3d(160, 16, kernel_size=(3, 3, 3), stride=(1, 1, 1), padding=(1, 1, 1))\n",
       "        (data_enc_level2_conv0_relu): ReLU()\n",
       "        (data_enc_level2_batchnorm_conv1): BatchNorm3d(176, eps=1e-05, momentum=0.1, affine=True, track_running_stats=True)\n",
       "        (data_enc_level2_conv1): Conv3d(176, 16, kernel_size=(3, 3, 3), stride=(1, 1, 1), padding=(1, 1, 1))\n",
       "        (data_enc_level2_conv1_relu): ReLU()\n",
       "        (data_enc_level2_batchnorm_conv2): BatchNorm3d(192, eps=1e-05, momentum=0.1, affine=True, track_running_stats=True)\n",
       "        (data_enc_level2_conv2): Conv3d(192, 16, kernel_size=(3, 3, 3), stride=(1, 1, 1), padding=(1, 1, 1))\n",
       "        (data_enc_level2_conv2_relu): ReLU()\n",
       "        (data_enc_level2_batchnorm_conv3): BatchNorm3d(208, eps=1e-05, momentum=0.1, affine=True, track_running_stats=True)\n",
       "        (data_enc_level2_conv3): Conv3d(208, 16, kernel_size=(3, 3, 3), stride=(1, 1, 1), padding=(1, 1, 1))\n",
       "        (data_enc_level2_conv3_relu): ReLU()\n",
       "      )\n",
       "    )\n",
       "    (data_enc_level2_global_pool): MaxPool3d(kernel_size=(6, 6, 6), stride=(6, 6, 6), padding=0, dilation=1, ceil_mode=False)\n",
       "  )\n",
       "  (pose): Sequential(\n",
       "    (pose_output): Linear(in_features=224, out_features=2, bias=True)\n",
       "  )\n",
       "  (affinity): Sequential(\n",
       "    (affinity_output): Linear(in_features=224, out_features=1, bias=True)\n",
       "  )\n",
       ")"
      ]
     },
     "execution_count": 14,
     "metadata": {},
     "output_type": "execute_result"
    }
   ],
   "source": [
    "model.eval()\n",
    "model.to(torch.device('cuda'))"
   ]
  },
  {
   "cell_type": "code",
   "execution_count": 15,
   "id": "cbebab7b",
   "metadata": {},
   "outputs": [
    {
     "data": {
      "application/vnd.jupyter.widget-view+json": {
       "model_id": "c7c0431325e04484b9f0094e78c0ba05",
       "version_major": 2,
       "version_minor": 0
      },
      "text/plain": [
       "  0%|          | 0/108528 [00:00<?, ?it/s]"
      ]
     },
     "metadata": {},
     "output_type": "display_data"
    },
    {
     "name": "stderr",
     "output_type": "stream",
     "text": [
      "==============================\n",
      "*** Open Babel Warning  in PerceiveBondOrders\n",
      "  Failed to kekulize aromatic bonds in OBMol::PerceiveBondOrders (title is 5FL4_receptor.pdb)\n",
      "\n"
     ]
    },
    {
     "data": {
      "text/plain": [
       "torch.Size([108528, 20, 224])"
      ]
     },
     "execution_count": 15,
     "metadata": {},
     "output_type": "execute_result"
    }
   ],
   "source": [
    "feats = list()\n",
    "with torch.inference_mode():\n",
    "    for batch in tqdm(all_loader):\n",
    "        feats.append(model.features(batch[0]).squeeze()[None])\n",
    "feats = torch.cat(feats)\n",
    "feats.shape"
   ]
  },
  {
   "cell_type": "code",
   "execution_count": null,
   "id": "bf35e44c",
   "metadata": {},
   "outputs": [],
   "source": [
    "torch.save(feats.detach().cpu(), 'cnn_feats_JACS_full.pt')"
   ]
  },
  {
   "cell_type": "code",
   "execution_count": 19,
   "id": "230aa13f",
   "metadata": {},
   "outputs": [
    {
     "data": {
      "text/plain": [
       "torch.Size([108528, 20, 224])"
      ]
     },
     "execution_count": 19,
     "metadata": {},
     "output_type": "execute_result"
    }
   ],
   "source": [
    "feats.shape # [N_molecules, N_poses, feats_dim]"
   ]
  },
  {
   "attachments": {},
   "cell_type": "markdown",
   "id": "2d680a20",
   "metadata": {},
   "source": [
    "# Evaluation data"
   ]
  },
  {
   "cell_type": "code",
   "execution_count": 2,
   "id": "4d837c46",
   "metadata": {},
   "outputs": [
    {
     "data": {
      "text/plain": [
       "3324"
      ]
     },
     "execution_count": 2,
     "metadata": {},
     "output_type": "execute_result"
    }
   ],
   "source": [
    "num_total = len(list(Path('ChEMBLeval_docking_results_clean/').glob('*sdf')))\n",
    "num_total"
   ]
  },
  {
   "cell_type": "code",
   "execution_count": 14,
   "id": "dfbd4466",
   "metadata": {},
   "outputs": [],
   "source": [
    "!mkdir poses_hca_chembl"
   ]
  },
  {
   "cell_type": "code",
   "execution_count": 15,
   "id": "e9e77341",
   "metadata": {},
   "outputs": [
    {
     "data": {
      "application/vnd.jupyter.widget-view+json": {
       "model_id": "a8dad81aef904af398df21c2bcf241a7",
       "version_major": 2,
       "version_minor": 0
      },
      "text/plain": [
       "  0%|          | 0/3324 [00:00<?, ?it/s]"
      ]
     },
     "metadata": {},
     "output_type": "display_data"
    }
   ],
   "source": [
    "for idx in tqdm(range(num_total)):\n",
    "    suppl = Chem.SDMolSupplier(f'ChEMBLeval_docking_results_clean/docked_{idx}.sdf')\n",
    "    for i, m in enumerate(suppl):\n",
    "        Chem.MolToPDBFile(m, f'poses_hca_chembl/m_idx_{idx}_pose_{i}.pdb')"
   ]
  },
  {
   "cell_type": "code",
   "execution_count": 3,
   "id": "0bb905c3",
   "metadata": {},
   "outputs": [],
   "source": [
    "n_poses = 20"
   ]
  },
  {
   "cell_type": "code",
   "execution_count": 18,
   "id": "039a0a0d",
   "metadata": {},
   "outputs": [
    {
     "data": {
      "application/vnd.jupyter.widget-view+json": {
       "model_id": "08cf7c886224463a844ce9f43ea95e1f",
       "version_major": 2,
       "version_minor": 0
      },
      "text/plain": [
       "  0%|          | 0/3324 [00:00<?, ?it/s]"
      ]
     },
     "metadata": {},
     "output_type": "display_data"
    }
   ],
   "source": [
    "with open(\"caix_chembl.types\", \"w\") as text_file:\n",
    "    for idx in tqdm(range(num_total)):\n",
    "        for p in range(n_poses):\n",
    "            file_str = f'{idx} 5FL4_receptor.pdb poses_hca_chembl/m_idx_{idx}_pose_{p}.pdb'\n",
    "            print(file_str, file=text_file)"
   ]
  },
  {
   "cell_type": "code",
   "execution_count": 4,
   "id": "94819871",
   "metadata": {},
   "outputs": [],
   "source": [
    "from gninatorch import setup, gnina, dataloaders\n",
    "from argparse import Namespace"
   ]
  },
  {
   "cell_type": "code",
   "execution_count": 5,
   "id": "21e808c0",
   "metadata": {},
   "outputs": [],
   "source": [
    "class VoxelLoader(dataloaders.GriddedExamplesLoader):\n",
    "    def __len__(self):\n",
    "        return self.num_batches"
   ]
  },
  {
   "cell_type": "code",
   "execution_count": 6,
   "id": "f9171e34",
   "metadata": {},
   "outputs": [],
   "source": [
    "grid_args = Namespace(**{'data_root':'',\n",
    "                    'batch_size':20,\n",
    "                    'ligmolcache':\"\",\n",
    "                    'recmolcache':\"\",\n",
    "                    'cache_structures':True,\n",
    "                    'dimension':23.5,\n",
    "                    'resolution':0.5,\n",
    "                    'balanced':False,\n",
    "                    'shuffle':False,\n",
    "                    'stratify_receptor':False,\n",
    "                    'stratify_pos':False,\n",
    "                    'iteration_scheme':'small',\n",
    "                    'stratify_max':0,\n",
    "                    'stratify_min':0,\n",
    "                    'stratify_step':0})"
   ]
  },
  {
   "cell_type": "code",
   "execution_count": 7,
   "id": "def31f02",
   "metadata": {},
   "outputs": [],
   "source": [
    "provider = setup.setup_example_provider(\n",
    "    f\"caix_chembl.types\", grid_args, training=False\n",
    ")\n",
    "grid_maker = setup.setup_grid_maker(grid_args)\n",
    "\n",
    "all_loader = VoxelLoader(\n",
    "    example_provider=provider,\n",
    "    grid_maker=grid_maker,\n",
    "    random_translation=0,\n",
    "    random_rotation=False,\n",
    "    device='cuda',\n",
    ")"
   ]
  },
  {
   "cell_type": "code",
   "execution_count": 8,
   "id": "d62fa51c",
   "metadata": {},
   "outputs": [],
   "source": [
    "import torch"
   ]
  },
  {
   "cell_type": "code",
   "execution_count": 9,
   "id": "4a3bd7cb",
   "metadata": {},
   "outputs": [],
   "source": [
    "model = gnina.setup_gnina_model('dense')[0]"
   ]
  },
  {
   "cell_type": "code",
   "execution_count": 10,
   "id": "30e58d8a",
   "metadata": {
    "scrolled": true
   },
   "outputs": [
    {
     "data": {
      "text/plain": [
       "DenseAffinity(\n",
       "  (features): Sequential(\n",
       "    (data_enc_init_pool): MaxPool3d(kernel_size=2, stride=2, padding=0, dilation=1, ceil_mode=False)\n",
       "    (data_enc_init_conv): Conv3d(28, 32, kernel_size=(3, 3, 3), stride=(1, 1, 1), padding=(1, 1, 1))\n",
       "    (data_enc_init_conv_relu): ReLU()\n",
       "    (dense_block_0): DenseBlock(\n",
       "      (blocks): Sequential(\n",
       "        (data_enc_level0_batchnorm_conv0): BatchNorm3d(32, eps=1e-05, momentum=0.1, affine=True, track_running_stats=True)\n",
       "        (data_enc_level0_conv0): Conv3d(32, 16, kernel_size=(3, 3, 3), stride=(1, 1, 1), padding=(1, 1, 1))\n",
       "        (data_enc_level0_conv0_relu): ReLU()\n",
       "        (data_enc_level0_batchnorm_conv1): BatchNorm3d(48, eps=1e-05, momentum=0.1, affine=True, track_running_stats=True)\n",
       "        (data_enc_level0_conv1): Conv3d(48, 16, kernel_size=(3, 3, 3), stride=(1, 1, 1), padding=(1, 1, 1))\n",
       "        (data_enc_level0_conv1_relu): ReLU()\n",
       "        (data_enc_level0_batchnorm_conv2): BatchNorm3d(64, eps=1e-05, momentum=0.1, affine=True, track_running_stats=True)\n",
       "        (data_enc_level0_conv2): Conv3d(64, 16, kernel_size=(3, 3, 3), stride=(1, 1, 1), padding=(1, 1, 1))\n",
       "        (data_enc_level0_conv2_relu): ReLU()\n",
       "        (data_enc_level0_batchnorm_conv3): BatchNorm3d(80, eps=1e-05, momentum=0.1, affine=True, track_running_stats=True)\n",
       "        (data_enc_level0_conv3): Conv3d(80, 16, kernel_size=(3, 3, 3), stride=(1, 1, 1), padding=(1, 1, 1))\n",
       "        (data_enc_level0_conv3_relu): ReLU()\n",
       "      )\n",
       "    )\n",
       "    (data_enc_level0_bottleneck): Conv3d(96, 96, kernel_size=(1, 1, 1), stride=(1, 1, 1))\n",
       "    (data_enc_level0_bottleneck_relu): ReLU()\n",
       "    (data_enc_level1_pool): MaxPool3d(kernel_size=2, stride=2, padding=0, dilation=1, ceil_mode=False)\n",
       "    (dense_block_1): DenseBlock(\n",
       "      (blocks): Sequential(\n",
       "        (data_enc_level1_batchnorm_conv0): BatchNorm3d(96, eps=1e-05, momentum=0.1, affine=True, track_running_stats=True)\n",
       "        (data_enc_level1_conv0): Conv3d(96, 16, kernel_size=(3, 3, 3), stride=(1, 1, 1), padding=(1, 1, 1))\n",
       "        (data_enc_level1_conv0_relu): ReLU()\n",
       "        (data_enc_level1_batchnorm_conv1): BatchNorm3d(112, eps=1e-05, momentum=0.1, affine=True, track_running_stats=True)\n",
       "        (data_enc_level1_conv1): Conv3d(112, 16, kernel_size=(3, 3, 3), stride=(1, 1, 1), padding=(1, 1, 1))\n",
       "        (data_enc_level1_conv1_relu): ReLU()\n",
       "        (data_enc_level1_batchnorm_conv2): BatchNorm3d(128, eps=1e-05, momentum=0.1, affine=True, track_running_stats=True)\n",
       "        (data_enc_level1_conv2): Conv3d(128, 16, kernel_size=(3, 3, 3), stride=(1, 1, 1), padding=(1, 1, 1))\n",
       "        (data_enc_level1_conv2_relu): ReLU()\n",
       "        (data_enc_level1_batchnorm_conv3): BatchNorm3d(144, eps=1e-05, momentum=0.1, affine=True, track_running_stats=True)\n",
       "        (data_enc_level1_conv3): Conv3d(144, 16, kernel_size=(3, 3, 3), stride=(1, 1, 1), padding=(1, 1, 1))\n",
       "        (data_enc_level1_conv3_relu): ReLU()\n",
       "      )\n",
       "    )\n",
       "    (data_enc_level1_bottleneck): Conv3d(160, 160, kernel_size=(1, 1, 1), stride=(1, 1, 1))\n",
       "    (data_enc_level1_bottleneck_relu): ReLU()\n",
       "    (data_enc_level2_pool): MaxPool3d(kernel_size=2, stride=2, padding=0, dilation=1, ceil_mode=False)\n",
       "    (dense_block_2): DenseBlock(\n",
       "      (blocks): Sequential(\n",
       "        (data_enc_level2_batchnorm_conv0): BatchNorm3d(160, eps=1e-05, momentum=0.1, affine=True, track_running_stats=True)\n",
       "        (data_enc_level2_conv0): Conv3d(160, 16, kernel_size=(3, 3, 3), stride=(1, 1, 1), padding=(1, 1, 1))\n",
       "        (data_enc_level2_conv0_relu): ReLU()\n",
       "        (data_enc_level2_batchnorm_conv1): BatchNorm3d(176, eps=1e-05, momentum=0.1, affine=True, track_running_stats=True)\n",
       "        (data_enc_level2_conv1): Conv3d(176, 16, kernel_size=(3, 3, 3), stride=(1, 1, 1), padding=(1, 1, 1))\n",
       "        (data_enc_level2_conv1_relu): ReLU()\n",
       "        (data_enc_level2_batchnorm_conv2): BatchNorm3d(192, eps=1e-05, momentum=0.1, affine=True, track_running_stats=True)\n",
       "        (data_enc_level2_conv2): Conv3d(192, 16, kernel_size=(3, 3, 3), stride=(1, 1, 1), padding=(1, 1, 1))\n",
       "        (data_enc_level2_conv2_relu): ReLU()\n",
       "        (data_enc_level2_batchnorm_conv3): BatchNorm3d(208, eps=1e-05, momentum=0.1, affine=True, track_running_stats=True)\n",
       "        (data_enc_level2_conv3): Conv3d(208, 16, kernel_size=(3, 3, 3), stride=(1, 1, 1), padding=(1, 1, 1))\n",
       "        (data_enc_level2_conv3_relu): ReLU()\n",
       "      )\n",
       "    )\n",
       "    (data_enc_level2_global_pool): MaxPool3d(kernel_size=(6, 6, 6), stride=(6, 6, 6), padding=0, dilation=1, ceil_mode=False)\n",
       "  )\n",
       "  (pose): Sequential(\n",
       "    (pose_output): Linear(in_features=224, out_features=2, bias=True)\n",
       "  )\n",
       "  (affinity): Sequential(\n",
       "    (affinity_output): Linear(in_features=224, out_features=1, bias=True)\n",
       "  )\n",
       ")"
      ]
     },
     "execution_count": 10,
     "metadata": {},
     "output_type": "execute_result"
    }
   ],
   "source": [
    "model.eval()\n",
    "model.to(torch.device('cuda'))"
   ]
  },
  {
   "cell_type": "code",
   "execution_count": 11,
   "id": "577c5f8e",
   "metadata": {
    "scrolled": true
   },
   "outputs": [
    {
     "data": {
      "application/vnd.jupyter.widget-view+json": {
       "model_id": "cf87755f11e040fdb56fab9f8e2ec868",
       "version_major": 2,
       "version_minor": 0
      },
      "text/plain": [
       "  0%|          | 0/3324 [00:00<?, ?it/s]"
      ]
     },
     "metadata": {},
     "output_type": "display_data"
    },
    {
     "name": "stderr",
     "output_type": "stream",
     "text": [
      "==============================\n",
      "*** Open Babel Warning  in PerceiveBondOrders\n",
      "  Failed to kekulize aromatic bonds in OBMol::PerceiveBondOrders (title is 5FL4_receptor.pdb)\n",
      "\n",
      "==============================\n",
      "*** Open Babel Warning  in PerceiveBondOrders\n",
      "  Failed to kekulize aromatic bonds in OBMol::PerceiveBondOrders (title is poses_hca_chembl/m_idx_1029_pose_0.pdb)\n",
      "\n",
      "==============================\n",
      "*** Open Babel Warning  in PerceiveBondOrders\n",
      "  Failed to kekulize aromatic bonds in OBMol::PerceiveBondOrders (title is poses_hca_chembl/m_idx_1029_pose_1.pdb)\n",
      "\n",
      "==============================\n",
      "*** Open Babel Warning  in PerceiveBondOrders\n",
      "  Failed to kekulize aromatic bonds in OBMol::PerceiveBondOrders (title is poses_hca_chembl/m_idx_1029_pose_2.pdb)\n",
      "\n",
      "==============================\n",
      "*** Open Babel Warning  in PerceiveBondOrders\n",
      "  Failed to kekulize aromatic bonds in OBMol::PerceiveBondOrders (title is poses_hca_chembl/m_idx_1029_pose_3.pdb)\n",
      "\n",
      "==============================\n",
      "*** Open Babel Warning  in PerceiveBondOrders\n",
      "  Failed to kekulize aromatic bonds in OBMol::PerceiveBondOrders (title is poses_hca_chembl/m_idx_1029_pose_4.pdb)\n",
      "\n",
      "==============================\n",
      "*** Open Babel Warning  in PerceiveBondOrders\n",
      "  Failed to kekulize aromatic bonds in OBMol::PerceiveBondOrders (title is poses_hca_chembl/m_idx_1029_pose_5.pdb)\n",
      "\n",
      "==============================\n",
      "*** Open Babel Warning  in PerceiveBondOrders\n",
      "  Failed to kekulize aromatic bonds in OBMol::PerceiveBondOrders (title is poses_hca_chembl/m_idx_1029_pose_6.pdb)\n",
      "\n",
      "==============================\n",
      "*** Open Babel Warning  in PerceiveBondOrders\n",
      "  Failed to kekulize aromatic bonds in OBMol::PerceiveBondOrders (title is poses_hca_chembl/m_idx_1029_pose_7.pdb)\n",
      "\n",
      "==============================\n",
      "*** Open Babel Warning  in PerceiveBondOrders\n",
      "  Failed to kekulize aromatic bonds in OBMol::PerceiveBondOrders (title is poses_hca_chembl/m_idx_1029_pose_8.pdb)\n",
      "\n",
      "==============================\n",
      "*** Open Babel Warning  in PerceiveBondOrders\n",
      "  Failed to kekulize aromatic bonds in OBMol::PerceiveBondOrders (title is poses_hca_chembl/m_idx_1029_pose_9.pdb)\n",
      "\n",
      "==============================\n",
      "*** Open Babel Warning  in PerceiveBondOrders\n",
      "  Failed to kekulize aromatic bonds in OBMol::PerceiveBondOrders (title is poses_hca_chembl/m_idx_1029_pose_10.pdb)\n",
      "\n",
      "==============================\n",
      "*** Open Babel Warning  in PerceiveBondOrders\n",
      "  Failed to kekulize aromatic bonds in OBMol::PerceiveBondOrders (title is poses_hca_chembl/m_idx_1029_pose_11.pdb)\n",
      "\n",
      "==============================\n",
      "*** Open Babel Warning  in PerceiveBondOrders\n",
      "  Failed to kekulize aromatic bonds in OBMol::PerceiveBondOrders (title is poses_hca_chembl/m_idx_1029_pose_12.pdb)\n",
      "\n",
      "==============================\n",
      "*** Open Babel Warning  in PerceiveBondOrders\n",
      "  Failed to kekulize aromatic bonds in OBMol::PerceiveBondOrders (title is poses_hca_chembl/m_idx_1029_pose_13.pdb)\n",
      "\n",
      "==============================\n",
      "*** Open Babel Warning  in PerceiveBondOrders\n",
      "  Failed to kekulize aromatic bonds in OBMol::PerceiveBondOrders (title is poses_hca_chembl/m_idx_1029_pose_14.pdb)\n",
      "\n",
      "==============================\n",
      "*** Open Babel Warning  in PerceiveBondOrders\n",
      "  Failed to kekulize aromatic bonds in OBMol::PerceiveBondOrders (title is poses_hca_chembl/m_idx_1029_pose_15.pdb)\n",
      "\n",
      "==============================\n",
      "*** Open Babel Warning  in PerceiveBondOrders\n",
      "  Failed to kekulize aromatic bonds in OBMol::PerceiveBondOrders (title is poses_hca_chembl/m_idx_1029_pose_16.pdb)\n",
      "\n",
      "==============================\n",
      "*** Open Babel Warning  in PerceiveBondOrders\n",
      "  Failed to kekulize aromatic bonds in OBMol::PerceiveBondOrders (title is poses_hca_chembl/m_idx_1029_pose_17.pdb)\n",
      "\n",
      "==============================\n",
      "*** Open Babel Warning  in PerceiveBondOrders\n",
      "  Failed to kekulize aromatic bonds in OBMol::PerceiveBondOrders (title is poses_hca_chembl/m_idx_1029_pose_18.pdb)\n",
      "\n",
      "==============================\n",
      "*** Open Babel Warning  in PerceiveBondOrders\n",
      "  Failed to kekulize aromatic bonds in OBMol::PerceiveBondOrders (title is poses_hca_chembl/m_idx_1029_pose_19.pdb)\n",
      "\n"
     ]
    },
    {
     "data": {
      "text/plain": [
       "torch.Size([3324, 20, 224])"
      ]
     },
     "execution_count": 11,
     "metadata": {},
     "output_type": "execute_result"
    }
   ],
   "source": [
    "feats = list()\n",
    "with torch.inference_mode():\n",
    "    for batch in tqdm(all_loader):\n",
    "        feats.append(model.features(batch[0]).squeeze()[None])\n",
    "feats = torch.cat(feats)\n",
    "feats.shape"
   ]
  },
  {
   "cell_type": "code",
   "execution_count": 12,
   "id": "d49a3398",
   "metadata": {},
   "outputs": [],
   "source": [
    "torch.save(feats.detach().cpu(), 'cnn_feats_hca_ChEMBL.pt')"
   ]
  }
 ],
 "metadata": {
  "kernelspec": {
   "display_name": "Python 3 (ipykernel)",
   "language": "python",
   "name": "python3"
  },
  "language_info": {
   "codemirror_mode": {
    "name": "ipython",
    "version": 3
   },
   "file_extension": ".py",
   "mimetype": "text/x-python",
   "name": "python",
   "nbconvert_exporter": "python",
   "pygments_lexer": "ipython3",
   "version": "3.7.12"
  }
 },
 "nbformat": 4,
 "nbformat_minor": 5
}
