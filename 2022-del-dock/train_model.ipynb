{
 "cells": [
  {
   "cell_type": "code",
   "execution_count": 1,
   "metadata": {},
   "outputs": [],
   "source": [
    "# Copyright (C) 2022 Insitro, Inc. This software and any derivative works are licensed under the \n",
    "# terms of the Creative Commons Attribution-NonCommercial 4.0 International Public License (CC-BY-NC 4.0), \n",
    "# accessible at https://creativecommons.org/licenses/by-nc/4.0/legalcode"
   ]
  },
  {
   "cell_type": "code",
   "execution_count": 1,
   "metadata": {},
   "outputs": [],
   "source": [
    "import pytorch_lightning as pl"
   ]
  },
  {
   "cell_type": "code",
   "execution_count": 2,
   "metadata": {},
   "outputs": [],
   "source": [
    "from datamodules import DataModule\n",
    "from pyro_models import PyroModel"
   ]
  },
  {
   "cell_type": "code",
   "execution_count": 3,
   "metadata": {},
   "outputs": [
    {
     "name": "stdout",
     "output_type": "stream",
     "text": [
      "Number of datapoints: 108528; using JACS dataset with counts\n",
      "Getting CNN feats from : ../notebooks/cnn_feats_JACS_full.pt)\n"
     ]
    },
    {
     "data": {
      "application/vnd.jupyter.widget-view+json": {
       "model_id": "",
       "version_major": 2,
       "version_minor": 0
      },
      "text/plain": [
       "Calculating Getting graph data fingerprints:   0%|          | 0/108528 [00:00<?, ?it/s]"
      ]
     },
     "metadata": {},
     "output_type": "display_data"
    },
    {
     "data": {
      "application/vnd.jupyter.widget-view+json": {
       "model_id": "5a4bce4c00e84420824fd7cdb6c41aeb",
       "version_major": 2,
       "version_minor": 0
      },
      "text/plain": [
       "Getting graph poses:   0%|          | 0/20 [00:00<?, ?it/s]"
      ]
     },
     "metadata": {},
     "output_type": "display_data"
    },
    {
     "data": {
      "application/vnd.jupyter.widget-view+json": {
       "model_id": "180422e843874684a813794b58e13002",
       "version_major": 2,
       "version_minor": 0
      },
      "text/plain": [
       "Getting graph data:   0%|          | 0/108528 [00:00<?, ?it/s]"
      ]
     },
     "metadata": {},
     "output_type": "display_data"
    },
    {
     "data": {
      "application/vnd.jupyter.widget-view+json": {
       "model_id": "929354690c4a49d0bf380e4612ba1c75",
       "version_major": 2,
       "version_minor": 0
      },
      "text/plain": [
       "Getting graph data:   0%|          | 0/108528 [00:00<?, ?it/s]"
      ]
     },
     "metadata": {},
     "output_type": "display_data"
    },
    {
     "data": {
      "application/vnd.jupyter.widget-view+json": {
       "model_id": "cc650b3482ad429980e8043f76488372",
       "version_major": 2,
       "version_minor": 0
      },
      "text/plain": [
       "Getting graph data:   0%|          | 0/108528 [00:00<?, ?it/s]"
      ]
     },
     "metadata": {},
     "output_type": "display_data"
    },
    {
     "data": {
      "application/vnd.jupyter.widget-view+json": {
       "model_id": "5220fe2ac22b4085bb012f9a70379cb6",
       "version_major": 2,
       "version_minor": 0
      },
      "text/plain": [
       "Getting graph data:   0%|          | 0/108528 [00:00<?, ?it/s]"
      ]
     },
     "metadata": {},
     "output_type": "display_data"
    },
    {
     "data": {
      "application/vnd.jupyter.widget-view+json": {
       "model_id": "b6cd35c6a7854b819a31c736a8cba85c",
       "version_major": 2,
       "version_minor": 0
      },
      "text/plain": [
       "Getting graph data:   0%|          | 0/108528 [00:00<?, ?it/s]"
      ]
     },
     "metadata": {},
     "output_type": "display_data"
    },
    {
     "data": {
      "application/vnd.jupyter.widget-view+json": {
       "model_id": "7e99e8366e5c4cb8ba8d701f148584cc",
       "version_major": 2,
       "version_minor": 0
      },
      "text/plain": [
       "Getting graph data:   0%|          | 0/108528 [00:00<?, ?it/s]"
      ]
     },
     "metadata": {},
     "output_type": "display_data"
    },
    {
     "data": {
      "application/vnd.jupyter.widget-view+json": {
       "model_id": "84a04af0ecc44a56964c04bd6de3a0c1",
       "version_major": 2,
       "version_minor": 0
      },
      "text/plain": [
       "Getting graph data:   0%|          | 0/108528 [00:00<?, ?it/s]"
      ]
     },
     "metadata": {},
     "output_type": "display_data"
    },
    {
     "data": {
      "application/vnd.jupyter.widget-view+json": {
       "model_id": "eacc59ce125045d1bc0d2dd7d1e242d3",
       "version_major": 2,
       "version_minor": 0
      },
      "text/plain": [
       "Getting graph data:   0%|          | 0/108528 [00:00<?, ?it/s]"
      ]
     },
     "metadata": {},
     "output_type": "display_data"
    },
    {
     "data": {
      "application/vnd.jupyter.widget-view+json": {
       "model_id": "0786d588b0b24e1f8be66ed2f2238d7a",
       "version_major": 2,
       "version_minor": 0
      },
      "text/plain": [
       "Getting graph data:   0%|          | 0/108528 [00:00<?, ?it/s]"
      ]
     },
     "metadata": {},
     "output_type": "display_data"
    },
    {
     "data": {
      "application/vnd.jupyter.widget-view+json": {
       "model_id": "2b5f82f0a1da4a3b8767b06488a595de",
       "version_major": 2,
       "version_minor": 0
      },
      "text/plain": [
       "Getting graph data:   0%|          | 0/108528 [00:00<?, ?it/s]"
      ]
     },
     "metadata": {},
     "output_type": "display_data"
    },
    {
     "data": {
      "application/vnd.jupyter.widget-view+json": {
       "model_id": "bbd419fb44184f16ae0b579bbf487660",
       "version_major": 2,
       "version_minor": 0
      },
      "text/plain": [
       "Getting graph data:   0%|          | 0/108528 [00:00<?, ?it/s]"
      ]
     },
     "metadata": {},
     "output_type": "display_data"
    },
    {
     "data": {
      "application/vnd.jupyter.widget-view+json": {
       "model_id": "ba839eba9ef5491a8eb0a3d1c32eb8bf",
       "version_major": 2,
       "version_minor": 0
      },
      "text/plain": [
       "Getting graph data:   0%|          | 0/108528 [00:00<?, ?it/s]"
      ]
     },
     "metadata": {},
     "output_type": "display_data"
    },
    {
     "data": {
      "application/vnd.jupyter.widget-view+json": {
       "model_id": "8952a68361054122a09d7b0e7cdd3e20",
       "version_major": 2,
       "version_minor": 0
      },
      "text/plain": [
       "Getting graph data:   0%|          | 0/108528 [00:00<?, ?it/s]"
      ]
     },
     "metadata": {},
     "output_type": "display_data"
    },
    {
     "data": {
      "application/vnd.jupyter.widget-view+json": {
       "model_id": "d95a8ee08be14f7bad6344ce3084abb3",
       "version_major": 2,
       "version_minor": 0
      },
      "text/plain": [
       "Getting graph data:   0%|          | 0/108528 [00:00<?, ?it/s]"
      ]
     },
     "metadata": {},
     "output_type": "display_data"
    },
    {
     "data": {
      "application/vnd.jupyter.widget-view+json": {
       "model_id": "c44c4c02b6e54e81b52643441c033bff",
       "version_major": 2,
       "version_minor": 0
      },
      "text/plain": [
       "Getting graph data:   0%|          | 0/108528 [00:00<?, ?it/s]"
      ]
     },
     "metadata": {},
     "output_type": "display_data"
    },
    {
     "data": {
      "application/vnd.jupyter.widget-view+json": {
       "model_id": "28ca73eadb16447ba2a26627647b940c",
       "version_major": 2,
       "version_minor": 0
      },
      "text/plain": [
       "Getting graph data:   0%|          | 0/108528 [00:00<?, ?it/s]"
      ]
     },
     "metadata": {},
     "output_type": "display_data"
    },
    {
     "data": {
      "application/vnd.jupyter.widget-view+json": {
       "model_id": "0c68107ae2c44d75abc81a11326c7eec",
       "version_major": 2,
       "version_minor": 0
      },
      "text/plain": [
       "Getting graph data:   0%|          | 0/108528 [00:00<?, ?it/s]"
      ]
     },
     "metadata": {},
     "output_type": "display_data"
    },
    {
     "data": {
      "application/vnd.jupyter.widget-view+json": {
       "model_id": "3d3d273ba50f48dbbcb520550db0d0d5",
       "version_major": 2,
       "version_minor": 0
      },
      "text/plain": [
       "Getting graph data:   0%|          | 0/108528 [00:00<?, ?it/s]"
      ]
     },
     "metadata": {},
     "output_type": "display_data"
    },
    {
     "data": {
      "application/vnd.jupyter.widget-view+json": {
       "model_id": "754a5708175d4ca188a902076b311e8d",
       "version_major": 2,
       "version_minor": 0
      },
      "text/plain": [
       "Getting graph data:   0%|          | 0/108528 [00:00<?, ?it/s]"
      ]
     },
     "metadata": {},
     "output_type": "display_data"
    },
    {
     "data": {
      "application/vnd.jupyter.widget-view+json": {
       "model_id": "1d1bbe19d63845feb6db78bf389f215a",
       "version_major": 2,
       "version_minor": 0
      },
      "text/plain": [
       "Getting graph data:   0%|          | 0/108528 [00:00<?, ?it/s]"
      ]
     },
     "metadata": {},
     "output_type": "display_data"
    },
    {
     "name": "stdout",
     "output_type": "stream",
     "text": [
      "train/val/test split: 0.7/0.1/0.2\n",
      "Using eval data: 3324 samples\n",
      "Getting CNN feats from : ../notebooks/cnn_feats_hca_ChEMBL.pt)\n"
     ]
    },
    {
     "data": {
      "application/vnd.jupyter.widget-view+json": {
       "model_id": "",
       "version_major": 2,
       "version_minor": 0
      },
      "text/plain": [
       "Calculating Getting eval graph data fingerprints:   0%|          | 0/3324 [00:00<?, ?it/s]"
      ]
     },
     "metadata": {},
     "output_type": "display_data"
    },
    {
     "data": {
      "application/vnd.jupyter.widget-view+json": {
       "model_id": "95d7e68e66b14e9391008d60357dd2ff",
       "version_major": 2,
       "version_minor": 0
      },
      "text/plain": [
       "Getting graph poses:   0%|          | 0/20 [00:00<?, ?it/s]"
      ]
     },
     "metadata": {},
     "output_type": "display_data"
    },
    {
     "data": {
      "application/vnd.jupyter.widget-view+json": {
       "model_id": "2687d6fc5a7f48f3b47a77b1aa757c14",
       "version_major": 2,
       "version_minor": 0
      },
      "text/plain": [
       "Getting eval graph data:   0%|          | 0/3324 [00:00<?, ?it/s]"
      ]
     },
     "metadata": {},
     "output_type": "display_data"
    },
    {
     "data": {
      "application/vnd.jupyter.widget-view+json": {
       "model_id": "866e1d1388364f9090e0b1fd765be14f",
       "version_major": 2,
       "version_minor": 0
      },
      "text/plain": [
       "Getting eval graph data:   0%|          | 0/3324 [00:00<?, ?it/s]"
      ]
     },
     "metadata": {},
     "output_type": "display_data"
    },
    {
     "data": {
      "application/vnd.jupyter.widget-view+json": {
       "model_id": "17f367cc9d814e05937f85c9dddcb6e8",
       "version_major": 2,
       "version_minor": 0
      },
      "text/plain": [
       "Getting eval graph data:   0%|          | 0/3324 [00:00<?, ?it/s]"
      ]
     },
     "metadata": {},
     "output_type": "display_data"
    },
    {
     "data": {
      "application/vnd.jupyter.widget-view+json": {
       "model_id": "ce2d1faf25464b1892be4a54b32a9e2d",
       "version_major": 2,
       "version_minor": 0
      },
      "text/plain": [
       "Getting eval graph data:   0%|          | 0/3324 [00:00<?, ?it/s]"
      ]
     },
     "metadata": {},
     "output_type": "display_data"
    },
    {
     "data": {
      "application/vnd.jupyter.widget-view+json": {
       "model_id": "9207a9e2068f44d082c51dd3a1bd6725",
       "version_major": 2,
       "version_minor": 0
      },
      "text/plain": [
       "Getting eval graph data:   0%|          | 0/3324 [00:00<?, ?it/s]"
      ]
     },
     "metadata": {},
     "output_type": "display_data"
    },
    {
     "data": {
      "application/vnd.jupyter.widget-view+json": {
       "model_id": "d20210499b0740339fab0a8c17c8fe2d",
       "version_major": 2,
       "version_minor": 0
      },
      "text/plain": [
       "Getting eval graph data:   0%|          | 0/3324 [00:00<?, ?it/s]"
      ]
     },
     "metadata": {},
     "output_type": "display_data"
    },
    {
     "data": {
      "application/vnd.jupyter.widget-view+json": {
       "model_id": "9d7c9a9ae6314df4af33b940c876f1c6",
       "version_major": 2,
       "version_minor": 0
      },
      "text/plain": [
       "Getting eval graph data:   0%|          | 0/3324 [00:00<?, ?it/s]"
      ]
     },
     "metadata": {},
     "output_type": "display_data"
    },
    {
     "data": {
      "application/vnd.jupyter.widget-view+json": {
       "model_id": "f5aca495822042ac86dd1bab10a3ca05",
       "version_major": 2,
       "version_minor": 0
      },
      "text/plain": [
       "Getting eval graph data:   0%|          | 0/3324 [00:00<?, ?it/s]"
      ]
     },
     "metadata": {},
     "output_type": "display_data"
    },
    {
     "data": {
      "application/vnd.jupyter.widget-view+json": {
       "model_id": "5ebe3d2d9d0c4411922154ec9d351f7e",
       "version_major": 2,
       "version_minor": 0
      },
      "text/plain": [
       "Getting eval graph data:   0%|          | 0/3324 [00:00<?, ?it/s]"
      ]
     },
     "metadata": {},
     "output_type": "display_data"
    },
    {
     "data": {
      "application/vnd.jupyter.widget-view+json": {
       "model_id": "0cfddde7f1c340dbab5e3110c53ebb62",
       "version_major": 2,
       "version_minor": 0
      },
      "text/plain": [
       "Getting eval graph data:   0%|          | 0/3324 [00:00<?, ?it/s]"
      ]
     },
     "metadata": {},
     "output_type": "display_data"
    },
    {
     "data": {
      "application/vnd.jupyter.widget-view+json": {
       "model_id": "b4f0f8d4d35e4dc6b79ac45337126656",
       "version_major": 2,
       "version_minor": 0
      },
      "text/plain": [
       "Getting eval graph data:   0%|          | 0/3324 [00:00<?, ?it/s]"
      ]
     },
     "metadata": {},
     "output_type": "display_data"
    },
    {
     "data": {
      "application/vnd.jupyter.widget-view+json": {
       "model_id": "8ac0ad3a03034a3495b3062dfa26ed3a",
       "version_major": 2,
       "version_minor": 0
      },
      "text/plain": [
       "Getting eval graph data:   0%|          | 0/3324 [00:00<?, ?it/s]"
      ]
     },
     "metadata": {},
     "output_type": "display_data"
    },
    {
     "data": {
      "application/vnd.jupyter.widget-view+json": {
       "model_id": "d59023624c9e4f7ca1fbc7bbd58210e2",
       "version_major": 2,
       "version_minor": 0
      },
      "text/plain": [
       "Getting eval graph data:   0%|          | 0/3324 [00:00<?, ?it/s]"
      ]
     },
     "metadata": {},
     "output_type": "display_data"
    },
    {
     "data": {
      "application/vnd.jupyter.widget-view+json": {
       "model_id": "aa0e05e5fbd64aa9af8f880d669cb54a",
       "version_major": 2,
       "version_minor": 0
      },
      "text/plain": [
       "Getting eval graph data:   0%|          | 0/3324 [00:00<?, ?it/s]"
      ]
     },
     "metadata": {},
     "output_type": "display_data"
    },
    {
     "data": {
      "application/vnd.jupyter.widget-view+json": {
       "model_id": "e501f60028e543d69f96fa2bd2f10b37",
       "version_major": 2,
       "version_minor": 0
      },
      "text/plain": [
       "Getting eval graph data:   0%|          | 0/3324 [00:00<?, ?it/s]"
      ]
     },
     "metadata": {},
     "output_type": "display_data"
    },
    {
     "data": {
      "application/vnd.jupyter.widget-view+json": {
       "model_id": "f9f7bdf57a5a4958913bfd935049be7a",
       "version_major": 2,
       "version_minor": 0
      },
      "text/plain": [
       "Getting eval graph data:   0%|          | 0/3324 [00:00<?, ?it/s]"
      ]
     },
     "metadata": {},
     "output_type": "display_data"
    },
    {
     "data": {
      "application/vnd.jupyter.widget-view+json": {
       "model_id": "0063d2bf6dec494eb8c930e8aef649e8",
       "version_major": 2,
       "version_minor": 0
      },
      "text/plain": [
       "Getting eval graph data:   0%|          | 0/3324 [00:00<?, ?it/s]"
      ]
     },
     "metadata": {},
     "output_type": "display_data"
    },
    {
     "data": {
      "application/vnd.jupyter.widget-view+json": {
       "model_id": "31a805887b0e42c99f28e39243c2dd4f",
       "version_major": 2,
       "version_minor": 0
      },
      "text/plain": [
       "Getting eval graph data:   0%|          | 0/3324 [00:00<?, ?it/s]"
      ]
     },
     "metadata": {},
     "output_type": "display_data"
    },
    {
     "data": {
      "application/vnd.jupyter.widget-view+json": {
       "model_id": "e7550e3b999349a4973ff144a4a15139",
       "version_major": 2,
       "version_minor": 0
      },
      "text/plain": [
       "Getting eval graph data:   0%|          | 0/3324 [00:00<?, ?it/s]"
      ]
     },
     "metadata": {},
     "output_type": "display_data"
    },
    {
     "data": {
      "application/vnd.jupyter.widget-view+json": {
       "model_id": "9836c034d0cb4fbd862d487e1c969467",
       "version_major": 2,
       "version_minor": 0
      },
      "text/plain": [
       "Getting eval graph data:   0%|          | 0/3324 [00:00<?, ?it/s]"
      ]
     },
     "metadata": {},
     "output_type": "display_data"
    },
    {
     "name": "stdout",
     "output_type": "stream",
     "text": [
      "Using splits from: splits_jacs_full.npz\n"
     ]
    }
   ],
   "source": [
    "datamodule = DataModule(batch_size=64,\n",
    "                             test_batch_size=64, \n",
    "                             poses=20, \n",
    "                             splits_fname='splits_jacs_full.npz',\n",
    "                             dataset_csv_fname='JACS_full.csv',\n",
    "                             df_eval_fname='df_eval_data.csv',\n",
    "                             source_eval='caix',\n",
    "                             cnn_feats_train_fname='cnn_feats_JACS_full.pt',\n",
    "                             cnn_feats_eval_fname='cnn_feats_hca_ChEMBL.pt',\n",
    "                             source_data='jacs_counts',)"
   ]
  },
  {
   "cell_type": "code",
   "execution_count": 4,
   "metadata": {},
   "outputs": [],
   "source": [
    "import os\n",
    "import wandb"
   ]
  },
  {
   "cell_type": "code",
   "execution_count": 5,
   "metadata": {},
   "outputs": [],
   "source": [
    "v_name = 'model_run'\n",
    "exp_name = 'model_experiments'"
   ]
  },
  {
   "cell_type": "code",
   "execution_count": 6,
   "metadata": {},
   "outputs": [
    {
     "name": "stderr",
     "output_type": "stream",
     "text": [
      "Global seed set to 72324\n",
      "\u001b[34m\u001b[1mwandb\u001b[0m: Currently logged in as: \u001b[33mkirillshmilovich\u001b[0m. Use \u001b[1m`wandb login --relogin`\u001b[0m to force relogin\n"
     ]
    },
    {
     "data": {
      "text/html": [
       "wandb version 0.13.3 is available!  To upgrade, please run:\n",
       " $ pip install wandb --upgrade"
      ],
      "text/plain": [
       "<IPython.core.display.HTML object>"
      ]
     },
     "metadata": {},
     "output_type": "display_data"
    },
    {
     "data": {
      "text/html": [
       "Tracking run with wandb version 0.12.21"
      ],
      "text/plain": [
       "<IPython.core.display.HTML object>"
      ]
     },
     "metadata": {},
     "output_type": "display_data"
    },
    {
     "data": {
      "text/html": [
       "Run data is saved locally in <code>/home/ec2-user/del_dock/model_building/public_repo/wandb/run-20220911_010721-201zt2r7</code>"
      ],
      "text/plain": [
       "<IPython.core.display.HTML object>"
      ]
     },
     "metadata": {},
     "output_type": "display_data"
    },
    {
     "data": {
      "text/html": [
       "Syncing run <strong><a href=\"https://wandb.aws.insitro.com/kirillshmilovich/public_tests_rep_3/runs/201zt2r7\" target=\"_blank\">public_test</a></strong> to <a href=\"https://wandb.aws.insitro.com/kirillshmilovich/public_tests_rep_3\" target=\"_blank\">Weights & Biases</a> (<a href=\"https://wandb.me/run\" target=\"_blank\">docs</a>)<br/>"
      ],
      "text/plain": [
       "<IPython.core.display.HTML object>"
      ]
     },
     "metadata": {},
     "output_type": "display_data"
    },
    {
     "name": "stderr",
     "output_type": "stream",
     "text": [
      "\u001b[34m\u001b[1mwandb\u001b[0m: logging graph, to disable use `wandb.watch(log_graph=False)`\n",
      "GPU available: True, used: True\n",
      "TPU available: False, using: 0 TPU cores\n",
      "IPU available: False, using: 0 IPUs\n",
      "HPU available: False, using: 0 HPUs\n",
      "LOCAL_RANK: 0 - CUDA_VISIBLE_DEVICES: [0]\n",
      "\n",
      "  | Name            | Type                  | Params\n",
      "----------------------------------------------------------\n",
      "0 | cnn_embed       | PyroSequential        | 189 K \n",
      "1 | smiles_embed    | PyroSequential        | 656 K \n",
      "2 | pose_attn_tanh  | PyroSequential        | 32.8 K\n",
      "3 | pose_attn_sig   | PyroSequential        | 32.8 K\n",
      "4 | pose_attn       | PyroLinear            | 128   \n",
      "5 | post_add_layer  | PyroResidualNLayerMLP | 131 K \n",
      "6 | enrichment_head | PyroSequential        | 257   \n",
      "7 | matrix_head     | PyroSequential        | 257   \n",
      "----------------------------------------------------------\n",
      "1.0 M     Trainable params\n",
      "0         Non-trainable params\n",
      "1.0 M     Total params\n",
      "4.175     Total estimated model params size (MB)\n"
     ]
    },
    {
     "data": {
      "application/vnd.jupyter.widget-view+json": {
       "model_id": "",
       "version_major": 2,
       "version_minor": 0
      },
      "text/plain": [
       "Sanity Checking: 0it [00:00, ?it/s]"
      ]
     },
     "metadata": {},
     "output_type": "display_data"
    },
    {
     "name": "stderr",
     "output_type": "stream",
     "text": [
      "/home/ec2-user/miniconda3/envs/pyg_pyro/lib/python3.7/site-packages/pytorch_lightning/trainer/connectors/data_connector.py:245: PossibleUserWarning: The dataloader, val_dataloader 0, does not have many workers which may be a bottleneck. Consider increasing the value of the `num_workers` argument` (try 64 which is the number of cpus on this machine) in the `DataLoader` init to improve performance.\n",
      "  category=PossibleUserWarning,\n",
      "/home/ec2-user/miniconda3/envs/pyg_pyro/lib/python3.7/site-packages/pytorch_lightning/trainer/connectors/data_connector.py:245: PossibleUserWarning: The dataloader, val_dataloader 1, does not have many workers which may be a bottleneck. Consider increasing the value of the `num_workers` argument` (try 64 which is the number of cpus on this machine) in the `DataLoader` init to improve performance.\n",
      "  category=PossibleUserWarning,\n",
      "/home/ec2-user/miniconda3/envs/pyg_pyro/lib/python3.7/site-packages/pytorch_lightning/trainer/connectors/data_connector.py:245: PossibleUserWarning: The dataloader, train_dataloader, does not have many workers which may be a bottleneck. Consider increasing the value of the `num_workers` argument` (try 64 which is the number of cpus on this machine) in the `DataLoader` init to improve performance.\n",
      "  category=PossibleUserWarning,\n"
     ]
    },
    {
     "data": {
      "application/vnd.jupyter.widget-view+json": {
       "model_id": "3a5657bd930049adb7c2b83add368b00",
       "version_major": 2,
       "version_minor": 0
      },
      "text/plain": [
       "Training: 0it [00:00, ?it/s]"
      ]
     },
     "metadata": {},
     "output_type": "display_data"
    },
    {
     "data": {
      "application/vnd.jupyter.widget-view+json": {
       "model_id": "",
       "version_major": 2,
       "version_minor": 0
      },
      "text/plain": [
       "Validation: 0it [00:00, ?it/s]"
      ]
     },
     "metadata": {},
     "output_type": "display_data"
    },
    {
     "data": {
      "application/vnd.jupyter.widget-view+json": {
       "model_id": "",
       "version_major": 2,
       "version_minor": 0
      },
      "text/plain": [
       "Validation: 0it [00:00, ?it/s]"
      ]
     },
     "metadata": {},
     "output_type": "display_data"
    },
    {
     "data": {
      "application/vnd.jupyter.widget-view+json": {
       "model_id": "",
       "version_major": 2,
       "version_minor": 0
      },
      "text/plain": [
       "Validation: 0it [00:00, ?it/s]"
      ]
     },
     "metadata": {},
     "output_type": "display_data"
    },
    {
     "data": {
      "application/vnd.jupyter.widget-view+json": {
       "model_id": "",
       "version_major": 2,
       "version_minor": 0
      },
      "text/plain": [
       "Validation: 0it [00:00, ?it/s]"
      ]
     },
     "metadata": {},
     "output_type": "display_data"
    },
    {
     "data": {
      "application/vnd.jupyter.widget-view+json": {
       "model_id": "",
       "version_major": 2,
       "version_minor": 0
      },
      "text/plain": [
       "Validation: 0it [00:00, ?it/s]"
      ]
     },
     "metadata": {},
     "output_type": "display_data"
    },
    {
     "data": {
      "application/vnd.jupyter.widget-view+json": {
       "model_id": "",
       "version_major": 2,
       "version_minor": 0
      },
      "text/plain": [
       "Validation: 0it [00:00, ?it/s]"
      ]
     },
     "metadata": {},
     "output_type": "display_data"
    },
    {
     "data": {
      "application/vnd.jupyter.widget-view+json": {
       "model_id": "",
       "version_major": 2,
       "version_minor": 0
      },
      "text/plain": [
       "Validation: 0it [00:00, ?it/s]"
      ]
     },
     "metadata": {},
     "output_type": "display_data"
    },
    {
     "data": {
      "application/vnd.jupyter.widget-view+json": {
       "model_id": "",
       "version_major": 2,
       "version_minor": 0
      },
      "text/plain": [
       "Validation: 0it [00:00, ?it/s]"
      ]
     },
     "metadata": {},
     "output_type": "display_data"
    },
    {
     "name": "stderr",
     "output_type": "stream",
     "text": [
      "LOCAL_RANK: 0 - CUDA_VISIBLE_DEVICES: [0]\n",
      "/home/ec2-user/miniconda3/envs/pyg_pyro/lib/python3.7/site-packages/pytorch_lightning/trainer/connectors/data_connector.py:245: PossibleUserWarning: The dataloader, test_dataloader 0, does not have many workers which may be a bottleneck. Consider increasing the value of the `num_workers` argument` (try 64 which is the number of cpus on this machine) in the `DataLoader` init to improve performance.\n",
      "  category=PossibleUserWarning,\n",
      "/home/ec2-user/miniconda3/envs/pyg_pyro/lib/python3.7/site-packages/pytorch_lightning/trainer/connectors/data_connector.py:245: PossibleUserWarning: The dataloader, test_dataloader 1, does not have many workers which may be a bottleneck. Consider increasing the value of the `num_workers` argument` (try 64 which is the number of cpus on this machine) in the `DataLoader` init to improve performance.\n",
      "  category=PossibleUserWarning,\n"
     ]
    },
    {
     "data": {
      "application/vnd.jupyter.widget-view+json": {
       "model_id": "320275a1d34d4c988b74cac0d6f4a8f9",
       "version_major": 2,
       "version_minor": 0
      },
      "text/plain": [
       "Testing: 0it [00:00, ?it/s]"
      ]
     },
     "metadata": {},
     "output_type": "display_data"
    },
    {
     "name": "stderr",
     "output_type": "stream",
     "text": [
      "LOCAL_RANK: 0 - CUDA_VISIBLE_DEVICES: [0]\n"
     ]
    },
    {
     "name": "stdout",
     "output_type": "stream",
     "text": [
      "────────────────────────────────────────────────────────────────────────────────────────────────────────────────────────\n",
      "       Test metric             DataLoader 0             DataLoader 1\n",
      "────────────────────────────────────────────────────────────────────────────────────────────────────────────────────────\n",
      "test_EMA_eval_ki_pearson   -0.038394860143770915    -0.038394860143770915\n",
      "test_EMA_eval_ki_spearman  -0.32768327688295357     -0.32768327688295357\n",
      "      test_EMA_loss         1.4221405982971191\n",
      "        test_loss           1.4220893383026123\n",
      "────────────────────────────────────────────────────────────────────────────────────────────────────────────────────────\n"
     ]
    },
    {
     "data": {
      "application/vnd.jupyter.widget-view+json": {
       "model_id": "7a66617f92a64be2b90941d90bafe1df",
       "version_major": 2,
       "version_minor": 0
      },
      "text/plain": [
       "Validation: 0it [00:00, ?it/s]"
      ]
     },
     "metadata": {},
     "output_type": "display_data"
    },
    {
     "name": "stdout",
     "output_type": "stream",
     "text": [
      "────────────────────────────────────────────────────────────────────────────────────────────────────────────────────────\n",
      "        Validate metric                 DataLoader 0                   DataLoader 1\n",
      "────────────────────────────────────────────────────────────────────────────────────────────────────────────────────────\n",
      "    VAL_EMA_eval_ki_pearson         -0.038394860143770915          -0.038394860143770915\n",
      "   VAL_EMA_eval_ki_spearman         -0.32768327688295357           -0.32768327688295357\n",
      "val_EMA_eval_ki_pearson_subset      -0.11437773148524351           -0.11437773148524351\n",
      "val_EMA_eval_ki_spearman_subset     -0.18470103181591158           -0.18470103181591158\n",
      "         val_EMA_loss                1.4231353998184204\n",
      "           val_loss                  1.4230819940567017\n",
      "────────────────────────────────────────────────────────────────────────────────────────────────────────────────────────\n"
     ]
    },
    {
     "data": {
      "text/html": [
       "Waiting for W&B process to finish... <strong style=\"color:green\">(success).</strong>"
      ],
      "text/plain": [
       "<IPython.core.display.HTML object>"
      ]
     },
     "metadata": {},
     "output_type": "display_data"
    },
    {
     "data": {
      "application/vnd.jupyter.widget-view+json": {
       "model_id": "",
       "version_major": 2,
       "version_minor": 0
      },
      "text/plain": [
       "VBox(children=(Label(value='107.843 MB of 107.843 MB uploaded (0.000 MB deduped)\\r'), FloatProgress(value=1.0,…"
      ]
     },
     "metadata": {},
     "output_type": "display_data"
    },
    {
     "data": {
      "text/html": [
       "<style>\n",
       "    table.wandb td:nth-child(1) { padding: 0 10px; text-align: left ; width: auto;} td:nth-child(2) {text-align: left ; width: 100%}\n",
       "    .wandb-row { display: flex; flex-direction: row; flex-wrap: wrap; justify-content: flex-start; width: 100% }\n",
       "    .wandb-col { display: flex; flex-direction: column; flex-basis: 100%; flex: 1; padding: 10px; }\n",
       "    </style>\n",
       "<div class=\"wandb-row\"><div class=\"wandb-col\"><h3>Run history:</h3><br/><table class=\"wandb\"><tr><td>VAL_EMA_eval_ki_pearson</td><td>▁████████</td></tr><tr><td>VAL_EMA_eval_ki_spearman</td><td>▁▇███████</td></tr><tr><td>epoch</td><td>▁▁▁▁▁▂▂▂▂▂▃▃▃▃▃▄▄▄▄▄▅▅▅▅▅▅▅▅▅▅▆▆▆▆▆▇▇▇▇█</td></tr><tr><td>global_step</td><td>▁▁▁▁▂▂▂▂▃▃▃▃▄▄▄▄▅▅▅▅▆▆▆▆▇▇▇▇████████</td></tr><tr><td>test_EMA_eval_ki_pearson</td><td>▁</td></tr><tr><td>test_EMA_eval_ki_spearman</td><td>▁</td></tr><tr><td>test_EMA_loss/dataloader_idx_0</td><td>▁</td></tr><tr><td>test_loss/dataloader_idx_0</td><td>▁</td></tr><tr><td>train_loss</td><td>█▃▃▇▂▃▃▂▂▂▂▂▂▂▃▁▃▄▃▂▂▃▂▃▂▂▂▂▂▁▃▅▃▅▂▄▃▄▃▆</td></tr><tr><td>trainer/global_step</td><td>▁▁▁▂▂▂▂▂▃▃▃▃▃▃▄▄▄▄▄▄▅▅▅▅▅▆▆▆▆▆▆▇▇▇▇▇████</td></tr><tr><td>val_EMA_eval_ki_pearson_subset</td><td>▁▇███████</td></tr><tr><td>val_EMA_eval_ki_spearman_subset</td><td>█▁▁▁▁▁▁▁▁</td></tr><tr><td>val_EMA_loss/dataloader_idx_0</td><td>██▁▁▁▁▁▁▁</td></tr><tr><td>val_loss/dataloader_idx_0</td><td>█▁▁▁▁▁▁▁▁</td></tr></table><br/></div><div class=\"wandb-col\"><h3>Run summary:</h3><br/><table class=\"wandb\"><tr><td>VAL_EMA_eval_ki_pearson</td><td>-0.03839</td></tr><tr><td>VAL_EMA_eval_ki_spearman</td><td>-0.32768</td></tr><tr><td>epoch</td><td>8</td></tr><tr><td>global_step</td><td>10856</td></tr><tr><td>test_EMA_eval_ki_pearson</td><td>-0.03839</td></tr><tr><td>test_EMA_eval_ki_spearman</td><td>-0.32768</td></tr><tr><td>test_EMA_loss/dataloader_idx_0</td><td>1.42214</td></tr><tr><td>test_loss/dataloader_idx_0</td><td>1.42209</td></tr><tr><td>train_loss</td><td>1.42737</td></tr><tr><td>trainer/global_step</td><td>10856</td></tr><tr><td>val_EMA_eval_ki_pearson_subset</td><td>-0.11438</td></tr><tr><td>val_EMA_eval_ki_spearman_subset</td><td>-0.1847</td></tr><tr><td>val_EMA_loss/dataloader_idx_0</td><td>1.42314</td></tr><tr><td>val_loss/dataloader_idx_0</td><td>1.42308</td></tr></table><br/></div></div>"
      ],
      "text/plain": [
       "<IPython.core.display.HTML object>"
      ]
     },
     "metadata": {},
     "output_type": "display_data"
    },
    {
     "data": {
      "text/html": [
       "Synced <strong style=\"color:#cdcd00\">public_test</strong>: <a href=\"https://wandb.aws.insitro.com/kirillshmilovich/public_tests_rep_3/runs/201zt2r7\" target=\"_blank\">https://wandb.aws.insitro.com/kirillshmilovich/public_tests_rep_3/runs/201zt2r7</a><br/>Synced 7 W&B file(s), 1 media file(s), 9 artifact file(s) and 1 other file(s)"
      ],
      "text/plain": [
       "<IPython.core.display.HTML object>"
      ]
     },
     "metadata": {},
     "output_type": "display_data"
    },
    {
     "data": {
      "text/html": [
       "Find logs at: <code>./wandb/run-20220911_010721-201zt2r7/logs</code>"
      ],
      "text/plain": [
       "<IPython.core.display.HTML object>"
      ]
     },
     "metadata": {},
     "output_type": "display_data"
    }
   ],
   "source": [
    "pl.seed_everything(42 ** 3 - 42 ** 2)\n",
    "model = PyroModel(hidden_dim=128,\n",
    "               poses=datamodule.poses,\n",
    "               final_act='exp',\n",
    "               learning_rate=1e-4,\n",
    "               weight_decay=0.0, \n",
    "               use_smiles=2048,\n",
    "               pose_reduce='attn_gated',\n",
    "               use_cnn_feats=224,\n",
    "               clip_norm=1e-1,\n",
    "               lrd_num_steps=1250,\n",
    "               lrd_gamma=0.1,\n",
    "               n_layers=2, dropout=0.5)\n",
    "\n",
    "\n",
    "logger = pl.loggers.WandbLogger(log_model=\"all\", name=v_name, project=exp_name)\n",
    "logger.watch(model, log=\"all\")\n",
    "\n",
    "\n",
    "checkpoint_callback = pl.callbacks.ModelCheckpoint(\n",
    "                     monitor=\"val_EMA_loss/dataloader_idx_0\",\n",
    "                     dirpath=exp_name + '_wandb' + '/' + v_name,\n",
    "                     filename='best-{epoch:02d}-{val_loss:.2f}',\n",
    "                     save_last=True)\n",
    "\n",
    "\n",
    "trainer = pl.Trainer(gpus=1,\n",
    "                     max_epochs=8,\n",
    "                     logger=logger,\n",
    "                     callbacks=[checkpoint_callback])\n",
    "\n",
    "trainer.fit(model, datamodule)\n",
    "trainer.test(model, datamodule)\n",
    "trainer.validate(model, datamodule)\n",
    "wandb.finish()"
   ]
  },
  {
   "cell_type": "code",
   "execution_count": null,
   "metadata": {},
   "outputs": [],
   "source": []
  },
  {
   "cell_type": "code",
   "execution_count": null,
   "metadata": {},
   "outputs": [],
   "source": []
  },
  {
   "cell_type": "code",
   "execution_count": null,
   "metadata": {},
   "outputs": [],
   "source": []
  }
 ],
 "metadata": {
  "kernelspec": {
   "display_name": "Python 3",
   "language": "python",
   "name": "python3"
  },
  "language_info": {
   "codemirror_mode": {
    "name": "ipython",
    "version": 3
   },
   "file_extension": ".py",
   "mimetype": "text/x-python",
   "name": "python",
   "nbconvert_exporter": "python",
   "pygments_lexer": "ipython3",
   "version": "3.6.7"
  }
 },
 "nbformat": 4,
 "nbformat_minor": 5
}
